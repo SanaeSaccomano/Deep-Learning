{
 "cells": [
  {
   "cell_type": "markdown",
   "id": "2e3be3c8",
   "metadata": {
    "toc": true
   },
   "source": [
    "<h1>Table of Contents<span class=\"tocSkip\"></span></h1>\n",
    "<div class=\"toc\"><ul class=\"toc-item\"><li><span><a href=\"#Importation-des-librairies-et-des-fichiers\" data-toc-modified-id=\"Importation-des-librairies-et-des-fichiers-1\"><span class=\"toc-item-num\">1&nbsp;&nbsp;</span>Importation des librairies et des fichiers</a></span></li><li><span><a href=\"#Détermination-de-la-cible\" data-toc-modified-id=\"Détermination-de-la-cible-2\"><span class=\"toc-item-num\">2&nbsp;&nbsp;</span>Détermination de la cible</a></span></li><li><span><a href=\"#Jeu-d'entraînement-et-jeu-de-test\" data-toc-modified-id=\"Jeu-d'entraînement-et-jeu-de-test-3\"><span class=\"toc-item-num\">3&nbsp;&nbsp;</span>Jeu d'entraînement et jeu de test</a></span></li><li><span><a href=\"#Classification-Naive-Bayes\" data-toc-modified-id=\"Classification-Naive-Bayes-4\"><span class=\"toc-item-num\">4&nbsp;&nbsp;</span>Classification Naive Bayes</a></span><ul class=\"toc-item\"><li><span><a href=\"#Récupération-des-sentiments-de-chaque-mot-des-tweets\" data-toc-modified-id=\"Récupération-des-sentiments-de-chaque-mot-des-tweets-4.1\"><span class=\"toc-item-num\">4.1&nbsp;&nbsp;</span>Récupération des sentiments de chaque mot des tweets</a></span></li><li><span><a href=\"#Etablissement-du-modèle-de-classification-Naive-Bayes-avec-le-module-nltk\" data-toc-modified-id=\"Etablissement-du-modèle-de-classification-Naive-Bayes-avec-le-module-nltk-4.2\"><span class=\"toc-item-num\">4.2&nbsp;&nbsp;</span>Etablissement du modèle de classification Naive Bayes avec le module nltk</a></span></li><li><span><a href=\"#Résultats\" data-toc-modified-id=\"Résultats-4.3\"><span class=\"toc-item-num\">4.3&nbsp;&nbsp;</span>Résultats</a></span></li></ul></li><li><span><a href=\"#Méthode-d'apprentissage-classiques\" data-toc-modified-id=\"Méthode-d'apprentissage-classiques-5\"><span class=\"toc-item-num\">5&nbsp;&nbsp;</span>Méthode d'apprentissage classiques</a></span><ul class=\"toc-item\"><li><span><a href=\"#Création-de-features\" data-toc-modified-id=\"Création-de-features-5.1\"><span class=\"toc-item-num\">5.1&nbsp;&nbsp;</span>Création de features</a></span><ul class=\"toc-item\"><li><span><a href=\"#Bag-of-words\" data-toc-modified-id=\"Bag-of-words-5.1.1\"><span class=\"toc-item-num\">5.1.1&nbsp;&nbsp;</span>Bag of words</a></span><ul class=\"toc-item\"><li><span><a href=\"#Création-de-la-fonction-pour-les-Bag-of-Words\" data-toc-modified-id=\"Création-de-la-fonction-pour-les-Bag-of-Words-5.1.1.1\"><span class=\"toc-item-num\">5.1.1.1&nbsp;&nbsp;</span>Création de la fonction pour les Bag of Words</a></span></li><li><span><a href=\"#Création-des-Bags-of-Words\" data-toc-modified-id=\"Création-des-Bags-of-Words-5.1.1.2\"><span class=\"toc-item-num\">5.1.1.2&nbsp;&nbsp;</span>Création des Bags of Words</a></span></li></ul></li><li><span><a href=\"#TF-IDF\" data-toc-modified-id=\"TF-IDF-5.1.2\"><span class=\"toc-item-num\">5.1.2&nbsp;&nbsp;</span>TF-IDF</a></span><ul class=\"toc-item\"><li><span><a href=\"#Création-de-la-fonction-pour-les-Bag-of-Words-avec-TF-IDF\" data-toc-modified-id=\"Création-de-la-fonction-pour-les-Bag-of-Words-avec-TF-IDF-5.1.2.1\"><span class=\"toc-item-num\">5.1.2.1&nbsp;&nbsp;</span>Création de la fonction pour les Bag of Words avec TF-IDF</a></span></li><li><span><a href=\"#Création-des-Bags-of-Words-avec-TF-IDF\" data-toc-modified-id=\"Création-des-Bags-of-Words-avec-TF-IDF-5.1.2.2\"><span class=\"toc-item-num\">5.1.2.2&nbsp;&nbsp;</span>Création des Bags of Words avec TF-IDF</a></span></li></ul></li></ul></li><li><span><a href=\"#Réduction-de-dimensions-et-visualisation-de-données-de-grande-dimension\" data-toc-modified-id=\"Réduction-de-dimensions-et-visualisation-de-données-de-grande-dimension-5.2\"><span class=\"toc-item-num\">5.2&nbsp;&nbsp;</span>Réduction de dimensions et visualisation de données de grande dimension</a></span><ul class=\"toc-item\"><li><span><a href=\"#L'analyse-en-composantes-principales\" data-toc-modified-id=\"L'analyse-en-composantes-principales-5.2.1\"><span class=\"toc-item-num\">5.2.1&nbsp;&nbsp;</span>L'analyse en composantes principales</a></span></li><li><span><a href=\"#Réduction-de-dimension-par-t-SNE\" data-toc-modified-id=\"Réduction-de-dimension-par-t-SNE-5.2.2\"><span class=\"toc-item-num\">5.2.2&nbsp;&nbsp;</span>Réduction de dimension par t-SNE</a></span></li></ul></li><li><span><a href=\"#Naive-Bayes-Sklearn\" data-toc-modified-id=\"Naive-Bayes-Sklearn-5.3\"><span class=\"toc-item-num\">5.3&nbsp;&nbsp;</span>Naive Bayes Sklearn</a></span><ul class=\"toc-item\"><li><span><a href=\"#Définition-de-la-matrice-de-confusion-et-de-la-métrique-d'intérêt\" data-toc-modified-id=\"Définition-de-la-matrice-de-confusion-et-de-la-métrique-d'intérêt-5.3.1\"><span class=\"toc-item-num\">5.3.1&nbsp;&nbsp;</span>Définition de la matrice de confusion et de la métrique d'intérêt</a></span></li><li><span><a href=\"#Optimisation-des-hyperparamètres\" data-toc-modified-id=\"Optimisation-des-hyperparamètres-5.3.2\"><span class=\"toc-item-num\">5.3.2&nbsp;&nbsp;</span>Optimisation des hyperparamètres</a></span></li><li><span><a href=\"#Etablissement-du-modèle\" data-toc-modified-id=\"Etablissement-du-modèle-5.3.3\"><span class=\"toc-item-num\">5.3.3&nbsp;&nbsp;</span>Etablissement du modèle</a></span></li><li><span><a href=\"#Naive-Bayes-avec-features-avec-BoW-simple\" data-toc-modified-id=\"Naive-Bayes-avec-features-avec-BoW-simple-5.3.4\"><span class=\"toc-item-num\">5.3.4&nbsp;&nbsp;</span>Naive Bayes avec features avec BoW simple</a></span></li><li><span><a href=\"#Naive-Bayes-avec-features-avec-TF-IDF\" data-toc-modified-id=\"Naive-Bayes-avec-features-avec-TF-IDF-5.3.5\"><span class=\"toc-item-num\">5.3.5&nbsp;&nbsp;</span>Naive Bayes avec features avec TF-IDF</a></span></li></ul></li><li><span><a href=\"#Résultats\" data-toc-modified-id=\"Résultats-5.4\"><span class=\"toc-item-num\">5.4&nbsp;&nbsp;</span>Résultats</a></span></li><li><span><a href=\"#Regression-logistique\" data-toc-modified-id=\"Regression-logistique-5.5\"><span class=\"toc-item-num\">5.5&nbsp;&nbsp;</span>Regression logistique</a></span><ul class=\"toc-item\"><li><span><a href=\"#Grille-de-recherche\" data-toc-modified-id=\"Grille-de-recherche-5.5.1\"><span class=\"toc-item-num\">5.5.1&nbsp;&nbsp;</span>Grille de recherche</a></span></li><li><span><a href=\"#Etablissement-du-modèle\" data-toc-modified-id=\"Etablissement-du-modèle-5.5.2\"><span class=\"toc-item-num\">5.5.2&nbsp;&nbsp;</span>Etablissement du modèle</a></span></li><li><span><a href=\"#Régression-logistique-avec-features-avec-BoW-simple\" data-toc-modified-id=\"Régression-logistique-avec-features-avec-BoW-simple-5.5.3\"><span class=\"toc-item-num\">5.5.3&nbsp;&nbsp;</span>Régression logistique avec features avec BoW simple</a></span></li><li><span><a href=\"#Régression-logistique-avec-features-avec-TF-IDF\" data-toc-modified-id=\"Régression-logistique-avec-features-avec-TF-IDF-5.5.4\"><span class=\"toc-item-num\">5.5.4&nbsp;&nbsp;</span>Régression logistique avec features avec TF-IDF</a></span></li></ul></li><li><span><a href=\"#Résultats\" data-toc-modified-id=\"Résultats-5.6\"><span class=\"toc-item-num\">5.6&nbsp;&nbsp;</span>Résultats</a></span></li></ul></li></ul></div>"
   ]
  },
  {
   "cell_type": "markdown",
   "id": "4ded4ad1",
   "metadata": {},
   "source": [
    "# Importation des librairies et des fichiers"
   ]
  },
  {
   "cell_type": "code",
   "execution_count": 1,
   "id": "d66bb8ba",
   "metadata": {},
   "outputs": [],
   "source": [
    "# numpy and pandas pour la manipulation des données\n",
    "import numpy as np\n",
    "import pandas as pd\n",
    "\n",
    "# matplotlib and seaborn pour les représentations graphiques\n",
    "import matplotlib.pyplot as plt\n",
    "import seaborn as sns\n",
    "\n",
    "# File system management\n",
    "import csv"
   ]
  },
  {
   "cell_type": "code",
   "execution_count": 2,
   "id": "a8edae9c",
   "metadata": {},
   "outputs": [],
   "source": [
    "# Mes couleurs\n",
    "a, b, c, d, e = [\n",
    "    plt.cm.Blues, plt.cm.Oranges, plt.cm.Reds, plt.cm.Greens, plt.cm.Purples\n",
    "]"
   ]
  },
  {
   "cell_type": "code",
   "execution_count": 3,
   "id": "42241f0b",
   "metadata": {},
   "outputs": [],
   "source": [
    "import nltk\n",
    "import time\n",
    "\n",
    "# création des features\n",
    "from sklearn.feature_extraction.text import CountVectorizer\n",
    "from sklearn.feature_extraction.text import TfidfVectorizer"
   ]
  },
  {
   "cell_type": "code",
   "execution_count": 4,
   "id": "e3ff02a1",
   "metadata": {},
   "outputs": [],
   "source": [
    "# Réduction de dimension\n",
    "from sklearn.manifold import TSNE\n",
    "from sklearn.decomposition import PCA"
   ]
  },
  {
   "cell_type": "code",
   "execution_count": 5,
   "id": "e63357dd",
   "metadata": {},
   "outputs": [],
   "source": [
    "from sklearn.model_selection import train_test_split\n",
    "from sklearn.metrics import accuracy_score, confusion_matrix, classification_report, roc_auc_score, precision_score\n",
    "\n",
    "from nltk.classify import NaiveBayesClassifier"
   ]
  },
  {
   "cell_type": "code",
   "execution_count": 6,
   "id": "37e3d076",
   "metadata": {},
   "outputs": [],
   "source": [
    "from sklearn.naive_bayes import MultinomialNB"
   ]
  },
  {
   "cell_type": "code",
   "execution_count": 7,
   "id": "2851feb2",
   "metadata": {},
   "outputs": [],
   "source": [
    "from sklearn.linear_model import LogisticRegression\n",
    "from sklearn.model_selection import GridSearchCV"
   ]
  },
  {
   "cell_type": "code",
   "execution_count": 8,
   "id": "c33df4c4",
   "metadata": {},
   "outputs": [],
   "source": [
    "# Keras\n",
    "from keras.preprocessing.text import Tokenizer\n",
    "from keras.preprocessing.sequence import pad_sequences\n",
    "from tensorflow.keras.callbacks import EarlyStopping\n",
    "from keras.models import Sequential\n",
    "from keras.layers import Embedding, Dropout, Flatten, Dense  # Modèle multicouche Keras simple\n",
    "from keras.layers import SimpleRNN  # modèle RNN\n",
    "from keras.layers import LSTM\n",
    "from keras.layers import SpatialDropout1D, Conv1D, Bidirectional\n",
    "\n",
    "from keras.layers import BatchNormalization\n",
    "from tensorflow import keras\n",
    "import tensorflow as tf"
   ]
  },
  {
   "cell_type": "code",
   "execution_count": 9,
   "id": "944dae9e",
   "metadata": {},
   "outputs": [],
   "source": [
    "import gensim"
   ]
  },
  {
   "cell_type": "code",
   "execution_count": 10,
   "id": "79887d31",
   "metadata": {},
   "outputs": [],
   "source": [
    "import joblib"
   ]
  },
  {
   "cell_type": "code",
   "execution_count": 11,
   "id": "92c328a4",
   "metadata": {},
   "outputs": [],
   "source": [
    "import os\n",
    "from dotenv import load_dotenv  # Pour récupérer les variables d'environnement\n",
    "\n",
    "load_dotenv('var.env')  # Importation des variables d'environnement\n",
    "\n",
    "# Récupération des variables d'environnement\n",
    "chemin = os.environ['CHEMIN']"
   ]
  },
  {
   "cell_type": "code",
   "execution_count": 12,
   "id": "357e693a",
   "metadata": {},
   "outputs": [],
   "source": [
    "X_tweet_1 = pd.read_csv(chemin + \"X_1.csv\")\n",
    "X_tweet_2 = pd.read_csv(chemin + \"X_2.csv\")"
   ]
  },
  {
   "cell_type": "code",
   "execution_count": 13,
   "id": "3aa4dd09",
   "metadata": {},
   "outputs": [
    {
     "data": {
      "text/html": [
       "<div>\n",
       "<style scoped>\n",
       "    .dataframe tbody tr th:only-of-type {\n",
       "        vertical-align: middle;\n",
       "    }\n",
       "\n",
       "    .dataframe tbody tr th {\n",
       "        vertical-align: top;\n",
       "    }\n",
       "\n",
       "    .dataframe thead th {\n",
       "        text-align: right;\n",
       "    }\n",
       "</style>\n",
       "<table border=\"1\" class=\"dataframe\">\n",
       "  <thead>\n",
       "    <tr style=\"text-align: right;\">\n",
       "      <th></th>\n",
       "      <th>target</th>\n",
       "      <th>tweet</th>\n",
       "      <th>tweet_nett</th>\n",
       "      <th>tweet_lemm</th>\n",
       "      <th>tweet_stem</th>\n",
       "    </tr>\n",
       "  </thead>\n",
       "  <tbody>\n",
       "    <tr>\n",
       "      <th>0</th>\n",
       "      <td>negative</td>\n",
       "      <td>if there was something that could go wrong tod...</td>\n",
       "      <td>if there was something that could go wrong tod...</td>\n",
       "      <td>if something could go wrong today sure baddddd...</td>\n",
       "      <td>if someth could go wrong today sure baddddddd ...</td>\n",
       "    </tr>\n",
       "    <tr>\n",
       "      <th>1</th>\n",
       "      <td>negative</td>\n",
       "      <td>I am really unhappy today.</td>\n",
       "      <td>am really unhappy today.</td>\n",
       "      <td>really unhappy today</td>\n",
       "      <td>realli unhappi today</td>\n",
       "    </tr>\n",
       "    <tr>\n",
       "      <th>2</th>\n",
       "      <td>negative</td>\n",
       "      <td>@MissBethAnn   I'm a Metsies fan also! Boo Hoo</td>\n",
       "      <td>user    am metsies fan also! boo hoo</td>\n",
       "      <td>user metsies fan also boo hoo</td>\n",
       "      <td>user metsi fan also boo hoo</td>\n",
       "    </tr>\n",
       "    <tr>\n",
       "      <th>3</th>\n",
       "      <td>negative</td>\n",
       "      <td>6 days are so loooooooooooong</td>\n",
       "      <td>days are so loooooooooooong</td>\n",
       "      <td>day loooooooooooong</td>\n",
       "      <td>day loooooooooooong</td>\n",
       "    </tr>\n",
       "    <tr>\n",
       "      <th>4</th>\n",
       "      <td>negative</td>\n",
       "      <td>Drinking and wondering if hes thinking about m...</td>\n",
       "      <td>drinking and wondering if hes thinking about m...</td>\n",
       "      <td>drinking wonder if think broken</td>\n",
       "      <td>drink wonder if he think broken</td>\n",
       "    </tr>\n",
       "    <tr>\n",
       "      <th>...</th>\n",
       "      <td>...</td>\n",
       "      <td>...</td>\n",
       "      <td>...</td>\n",
       "      <td>...</td>\n",
       "      <td>...</td>\n",
       "    </tr>\n",
       "    <tr>\n",
       "      <th>4995</th>\n",
       "      <td>positive</td>\n",
       "      <td>CRYS ... so busy n pressure n AAAARRRRRGH IM G...</td>\n",
       "      <td>crys ... so busy and pressure and aaaarrrrrgh ...</td>\n",
       "      <td>cry busy pressure aaaarrrrrgh gona explode o n...</td>\n",
       "      <td>cri busi pressur aaaarrrrrgh gona explod _o ni...</td>\n",
       "    </tr>\n",
       "    <tr>\n",
       "      <th>4996</th>\n",
       "      <td>positive</td>\n",
       "      <td>@nsane8 its a good warning.  trust me. ;) (via...</td>\n",
       "      <td>user  its good warning.  trust me.  emoticon_...</td>\n",
       "      <td>user good warn trust emoticon clindoeil via us...</td>\n",
       "      <td>user good warn trust emoticon_clindoeil via us...</td>\n",
       "    </tr>\n",
       "    <tr>\n",
       "      <th>4997</th>\n",
       "      <td>positive</td>\n",
       "      <td>@sscoury awe!!! Your weimie is adorable!!!!!!</td>\n",
       "      <td>user  awe!!! your wei amie is adorable!!!!!!</td>\n",
       "      <td>user awe wei amie adorable</td>\n",
       "      <td>user awe wei ami ador</td>\n",
       "    </tr>\n",
       "    <tr>\n",
       "      <th>4998</th>\n",
       "      <td>positive</td>\n",
       "      <td>i have a new cousin  called billie-jack amos t...</td>\n",
       "      <td>have new cousin  called billie-jack amos thomson</td>\n",
       "      <td>new cousin call billie jack amos thomson</td>\n",
       "      <td>new cousin call billi jack amo thomson</td>\n",
       "    </tr>\n",
       "    <tr>\n",
       "      <th>4999</th>\n",
       "      <td>positive</td>\n",
       "      <td>More stuff is up on my Deviant art page</td>\n",
       "      <td>more stuff is up on my deviant art page</td>\n",
       "      <td>stuff deviant art page</td>\n",
       "      <td>stuff deviant art page</td>\n",
       "    </tr>\n",
       "  </tbody>\n",
       "</table>\n",
       "<p>5000 rows × 5 columns</p>\n",
       "</div>"
      ],
      "text/plain": [
       "        target                                              tweet  \\\n",
       "0     negative  if there was something that could go wrong tod...   \n",
       "1     negative                       I am really unhappy today.     \n",
       "2     negative     @MissBethAnn   I'm a Metsies fan also! Boo Hoo   \n",
       "3     negative                     6 days are so loooooooooooong    \n",
       "4     negative  Drinking and wondering if hes thinking about m...   \n",
       "...        ...                                                ...   \n",
       "4995  positive  CRYS ... so busy n pressure n AAAARRRRRGH IM G...   \n",
       "4996  positive  @nsane8 its a good warning.  trust me. ;) (via...   \n",
       "4997  positive     @sscoury awe!!! Your weimie is adorable!!!!!!    \n",
       "4998  positive  i have a new cousin  called billie-jack amos t...   \n",
       "4999  positive           More stuff is up on my Deviant art page    \n",
       "\n",
       "                                             tweet_nett  \\\n",
       "0     if there was something that could go wrong tod...   \n",
       "1                            am really unhappy today.     \n",
       "2                  user    am metsies fan also! boo hoo   \n",
       "3                          days are so loooooooooooong    \n",
       "4     drinking and wondering if hes thinking about m...   \n",
       "...                                                 ...   \n",
       "4995  crys ... so busy and pressure and aaaarrrrrgh ...   \n",
       "4996   user  its good warning.  trust me.  emoticon_...   \n",
       "4997      user  awe!!! your wei amie is adorable!!!!!!    \n",
       "4998   have new cousin  called billie-jack amos thomson   \n",
       "4999           more stuff is up on my deviant art page    \n",
       "\n",
       "                                             tweet_lemm  \\\n",
       "0     if something could go wrong today sure baddddd...   \n",
       "1                                  really unhappy today   \n",
       "2                         user metsies fan also boo hoo   \n",
       "3                                   day loooooooooooong   \n",
       "4                       drinking wonder if think broken   \n",
       "...                                                 ...   \n",
       "4995  cry busy pressure aaaarrrrrgh gona explode o n...   \n",
       "4996  user good warn trust emoticon clindoeil via us...   \n",
       "4997                         user awe wei amie adorable   \n",
       "4998           new cousin call billie jack amos thomson   \n",
       "4999                             stuff deviant art page   \n",
       "\n",
       "                                             tweet_stem  \n",
       "0     if someth could go wrong today sure baddddddd ...  \n",
       "1                                  realli unhappi today  \n",
       "2                           user metsi fan also boo hoo  \n",
       "3                                   day loooooooooooong  \n",
       "4                       drink wonder if he think broken  \n",
       "...                                                 ...  \n",
       "4995  cri busi pressur aaaarrrrrgh gona explod _o ni...  \n",
       "4996  user good warn trust emoticon_clindoeil via us...  \n",
       "4997                              user awe wei ami ador  \n",
       "4998             new cousin call billi jack amo thomson  \n",
       "4999                             stuff deviant art page  \n",
       "\n",
       "[5000 rows x 5 columns]"
      ]
     },
     "execution_count": 13,
     "metadata": {},
     "output_type": "execute_result"
    }
   ],
   "source": [
    "X_tweet_1"
   ]
  },
  {
   "cell_type": "code",
   "execution_count": 14,
   "id": "2f1bad92",
   "metadata": {},
   "outputs": [
    {
     "data": {
      "text/html": [
       "<div>\n",
       "<style scoped>\n",
       "    .dataframe tbody tr th:only-of-type {\n",
       "        vertical-align: middle;\n",
       "    }\n",
       "\n",
       "    .dataframe tbody tr th {\n",
       "        vertical-align: top;\n",
       "    }\n",
       "\n",
       "    .dataframe thead th {\n",
       "        text-align: right;\n",
       "    }\n",
       "</style>\n",
       "<table border=\"1\" class=\"dataframe\">\n",
       "  <thead>\n",
       "    <tr style=\"text-align: right;\">\n",
       "      <th></th>\n",
       "      <th>target</th>\n",
       "      <th>tweet</th>\n",
       "      <th>tweet_nett</th>\n",
       "      <th>tweet_lemm</th>\n",
       "      <th>tweet_stem</th>\n",
       "    </tr>\n",
       "  </thead>\n",
       "  <tbody>\n",
       "    <tr>\n",
       "      <th>0</th>\n",
       "      <td>negative</td>\n",
       "      <td>@wonderdidi ok didi...will have it later today...</td>\n",
       "      <td>user  ok didi...will have it later today...fo...</td>\n",
       "      <td>user ok didi later today forgot keep milk stoc...</td>\n",
       "      <td>user ok didi later today forgot keep milk stoc...</td>\n",
       "    </tr>\n",
       "    <tr>\n",
       "      <th>1</th>\n",
       "      <td>negative</td>\n",
       "      <td>I totally just gave myself a small blister try...</td>\n",
       "      <td>totally just gave myself small blister trying ...</td>\n",
       "      <td>totally give small blister try open bottle mt ...</td>\n",
       "      <td>total gave small blister tri open bottl mt dew...</td>\n",
       "    </tr>\n",
       "    <tr>\n",
       "      <th>2</th>\n",
       "      <td>negative</td>\n",
       "      <td>My boyfriend beat my ass in beer pong</td>\n",
       "      <td>my boyfriend beat my ass in beer pong</td>\n",
       "      <td>boyfriend beat beer pong</td>\n",
       "      <td>boyfriend beat ass beer pong</td>\n",
       "    </tr>\n",
       "    <tr>\n",
       "      <th>3</th>\n",
       "      <td>negative</td>\n",
       "      <td>Living without Tweetdeck is like trying to mak...</td>\n",
       "      <td>living without tweetdeck is like trying to mak...</td>\n",
       "      <td>living without tweetdeck like try make sense w...</td>\n",
       "      <td>live without tweetdeck like tri make sens word...</td>\n",
       "    </tr>\n",
       "    <tr>\n",
       "      <th>4</th>\n",
       "      <td>negative</td>\n",
       "      <td>@ladymaryann @Mia_R can't stand reading anoop-...</td>\n",
       "      <td>user  user  can not stand reading anoop-caw-c...</td>\n",
       "      <td>user user not stand reading anoop caw caw must...</td>\n",
       "      <td>user user not stand read anoop caw caw must de...</td>\n",
       "    </tr>\n",
       "    <tr>\n",
       "      <th>...</th>\n",
       "      <td>...</td>\n",
       "      <td>...</td>\n",
       "      <td>...</td>\n",
       "      <td>...</td>\n",
       "      <td>...</td>\n",
       "    </tr>\n",
       "    <tr>\n",
       "      <th>24973</th>\n",
       "      <td>positive</td>\n",
       "      <td>Let's have some fun,this beat is sick haha you...</td>\n",
       "      <td>let is have some fun,this beat is sick haha yo...</td>\n",
       "      <td>let fun beat sick haha awesome lady gaga</td>\n",
       "      <td>let fun beat sick haha awesom ladi gaga</td>\n",
       "    </tr>\n",
       "    <tr>\n",
       "      <th>24974</th>\n",
       "      <td>positive</td>\n",
       "      <td>going to go to a poi workshop soon? i dont kno...</td>\n",
       "      <td>going to go to poi workshop soon? do not know ...</td>\n",
       "      <td>go go poi workshop soon not know but fun</td>\n",
       "      <td>go go poi workshop soon not know but fun</td>\n",
       "    </tr>\n",
       "    <tr>\n",
       "      <th>24975</th>\n",
       "      <td>positive</td>\n",
       "      <td>@socalsass: so it's just a normal day!</td>\n",
       "      <td>user  so it is just normal day!</td>\n",
       "      <td>user normal day</td>\n",
       "      <td>user normal day</td>\n",
       "    </tr>\n",
       "    <tr>\n",
       "      <th>24976</th>\n",
       "      <td>positive</td>\n",
       "      <td>can't handle all this caffeine</td>\n",
       "      <td>can not handle all this caffeine</td>\n",
       "      <td>not handle caffeine</td>\n",
       "      <td>not handl caffein</td>\n",
       "    </tr>\n",
       "    <tr>\n",
       "      <th>24977</th>\n",
       "      <td>positive</td>\n",
       "      <td>@officialnjonas On my mind all the time, it's ...</td>\n",
       "      <td>user  on my mind all the ti ame, it is cri am...</td>\n",
       "      <td>user mind ti ame cri ame not deny true cause g...</td>\n",
       "      <td>user mind ti ame cri ame not deni true caus go...</td>\n",
       "    </tr>\n",
       "  </tbody>\n",
       "</table>\n",
       "<p>24978 rows × 5 columns</p>\n",
       "</div>"
      ],
      "text/plain": [
       "         target                                              tweet  \\\n",
       "0      negative  @wonderdidi ok didi...will have it later today...   \n",
       "1      negative  I totally just gave myself a small blister try...   \n",
       "2      negative             My boyfriend beat my ass in beer pong    \n",
       "3      negative  Living without Tweetdeck is like trying to mak...   \n",
       "4      negative  @ladymaryann @Mia_R can't stand reading anoop-...   \n",
       "...         ...                                                ...   \n",
       "24973  positive  Let's have some fun,this beat is sick haha you...   \n",
       "24974  positive  going to go to a poi workshop soon? i dont kno...   \n",
       "24975  positive            @socalsass: so it's just a normal day!    \n",
       "24976  positive                    can't handle all this caffeine    \n",
       "24977  positive  @officialnjonas On my mind all the time, it's ...   \n",
       "\n",
       "                                              tweet_nett  \\\n",
       "0       user  ok didi...will have it later today...fo...   \n",
       "1      totally just gave myself small blister trying ...   \n",
       "2                 my boyfriend beat my ass in beer pong    \n",
       "3      living without tweetdeck is like trying to mak...   \n",
       "4       user  user  can not stand reading anoop-caw-c...   \n",
       "...                                                  ...   \n",
       "24973  let is have some fun,this beat is sick haha yo...   \n",
       "24974  going to go to poi workshop soon? do not know ...   \n",
       "24975                   user  so it is just normal day!    \n",
       "24976                  can not handle all this caffeine    \n",
       "24977   user  on my mind all the ti ame, it is cri am...   \n",
       "\n",
       "                                              tweet_lemm  \\\n",
       "0      user ok didi later today forgot keep milk stoc...   \n",
       "1      totally give small blister try open bottle mt ...   \n",
       "2                               boyfriend beat beer pong   \n",
       "3      living without tweetdeck like try make sense w...   \n",
       "4      user user not stand reading anoop caw caw must...   \n",
       "...                                                  ...   \n",
       "24973           let fun beat sick haha awesome lady gaga   \n",
       "24974           go go poi workshop soon not know but fun   \n",
       "24975                                    user normal day   \n",
       "24976                                not handle caffeine   \n",
       "24977  user mind ti ame cri ame not deny true cause g...   \n",
       "\n",
       "                                              tweet_stem  \n",
       "0      user ok didi later today forgot keep milk stoc...  \n",
       "1      total gave small blister tri open bottl mt dew...  \n",
       "2                           boyfriend beat ass beer pong  \n",
       "3      live without tweetdeck like tri make sens word...  \n",
       "4      user user not stand read anoop caw caw must de...  \n",
       "...                                                  ...  \n",
       "24973            let fun beat sick haha awesom ladi gaga  \n",
       "24974           go go poi workshop soon not know but fun  \n",
       "24975                                    user normal day  \n",
       "24976                                  not handl caffein  \n",
       "24977  user mind ti ame cri ame not deni true caus go...  \n",
       "\n",
       "[24978 rows x 5 columns]"
      ]
     },
     "execution_count": 14,
     "metadata": {},
     "output_type": "execute_result"
    }
   ],
   "source": [
    "X_tweet_2"
   ]
  },
  {
   "cell_type": "markdown",
   "id": "d0ca8e00",
   "metadata": {},
   "source": [
    "# Détermination de la cible"
   ]
  },
  {
   "cell_type": "markdown",
   "id": "3ceba6c3",
   "metadata": {},
   "source": [
    "Dans un premier temps, nous allons changer les modalités de la cible. La modalité \"positive\" devient 1 et la modalité \"negative\" devient 0."
   ]
  },
  {
   "cell_type": "code",
   "execution_count": 15,
   "id": "80868d3e",
   "metadata": {},
   "outputs": [],
   "source": [
    "X_tweet_1['target'] = X_tweet_1['target'].replace(['negative', 'positive'],\n",
    "                                                  [0, 1])\n",
    "X_tweet_2['target'] = X_tweet_2['target'].replace(['negative', 'positive'],\n",
    "                                                  [0, 1])\n",
    "X_tweet_1.to_csv(chemin + \"X_1_binaire.csv\", index=False)\n",
    "X_tweet_2.to_csv(chemin + \"X_2_binaire.csv\", index=False)"
   ]
  },
  {
   "cell_type": "code",
   "execution_count": 16,
   "id": "f863cfda",
   "metadata": {},
   "outputs": [],
   "source": [
    "X_test = X_tweet_1.drop(columns=['tweet', 'tweet_nett', 'tweet_stem'])\n",
    "X_train = X_tweet_2.drop(columns=['tweet', 'tweet_nett', 'tweet_stem'])\n",
    "X_test.to_csv(chemin + \"X_test.csv\", index=False)\n",
    "X_train.to_csv(chemin + \"X_train.csv\", index=False)"
   ]
  },
  {
   "cell_type": "markdown",
   "id": "b3916e43",
   "metadata": {},
   "source": [
    "# Jeu d'entraînement et jeu de test"
   ]
  },
  {
   "cell_type": "markdown",
   "id": "6bb5ba82",
   "metadata": {},
   "source": [
    "Afin de pouvoir comparer ce qui est comparable, nous allons dès maintenant séparer les jeux d'entraînement et de test. Cela permettra de pouvoir tester les modèles en s'affranchissant d'un biais issu d'une singularité au sein des données."
   ]
  },
  {
   "cell_type": "markdown",
   "id": "98d53ee1",
   "metadata": {},
   "source": [
    "Nous disposons de deux jeux de données qui compte 4 variables :\n",
    "\n",
    "    - les tweets bruts\n",
    "    - les tweets nettoyés\n",
    "    - les tweets nettoyés et transformés avec la lemmatisation\n",
    "    - les tweets nettoyés et transformés avec la racinisation.\n",
    "Ces quatre jeux sont disponibles en deux tailles différentes : environ 5000 tweets ou environ 25000 tweets.\n",
    "Ainsi, nous pourrons tester l'impact sur la performance à la fois du nettoyage et de la transformation des tweets et la taille du jeu de données."
   ]
  },
  {
   "cell_type": "code",
   "execution_count": 17,
   "id": "34a422dd",
   "metadata": {},
   "outputs": [],
   "source": [
    "X_train_1, X_test_1 = train_test_split(X_tweet_1,\n",
    "                                       test_size=0.2,\n",
    "                                       random_state=42)"
   ]
  },
  {
   "cell_type": "code",
   "execution_count": 18,
   "id": "040fe91b",
   "metadata": {},
   "outputs": [],
   "source": [
    "X_train_2, X_test_2 = train_test_split(X_tweet_2,\n",
    "                                       test_size=0.2,\n",
    "                                       random_state=42)"
   ]
  },
  {
   "cell_type": "markdown",
   "id": "93a5146d",
   "metadata": {},
   "source": [
    "# Classification Naive Bayes"
   ]
  },
  {
   "cell_type": "markdown",
   "id": "6ec91c9c",
   "metadata": {},
   "source": [
    "Cet algorithme permet de catégoriser le sentiment d'un texte selon s'il est positif ou négatif.\n",
    "L'algorithme Naive Bayes effectue une classification probabiliste et assigne la probabilité qu'a le texte d'appartenir à une classe.\n",
    "Il s'agit d'un type d'algorithme génératif, car il modélise l'appartenance à une classe selon les données dont il dispose.\n",
    "Pour faire ceci, cet algorithme va poser le problème suivant : trouver la classe qui a la plus grande probabilité étant donné le tweet donné\". Il s'appuie sur le théorème de Bayes, à partir duquel il est possible de calculer la probabilité d'appartenance à une classe en tenant compte à la fois des données existantes et de nouvelles données.\n",
    "\n",
    "Dans un premier temps, nous allons utiliser l'algorithme de classification Naive Bayes de la librairie nltk (Natural Language Toolkit)."
   ]
  },
  {
   "cell_type": "markdown",
   "id": "36ebc31e",
   "metadata": {},
   "source": [
    "## Récupération des sentiments de chaque mot des tweets"
   ]
  },
  {
   "cell_type": "markdown",
   "id": "6b950115",
   "metadata": {},
   "source": [
    "D'abord, nous définissons une fonction pour pouvoir récupérer le sentiment de chaque mot de chaque tweet suivant sa cible dans la base de données."
   ]
  },
  {
   "cell_type": "markdown",
   "id": "55690797",
   "metadata": {},
   "source": [
    "## Etablissement du modèle de classification Naive Bayes avec le module nltk"
   ]
  },
  {
   "cell_type": "code",
   "execution_count": 21,
   "id": "f5cb1314",
   "metadata": {},
   "outputs": [],
   "source": [
    "# Création des listes pour sauvegarder les résultats\n",
    "modeles = []\n",
    "modeles.append('Classifieur Naive Bayes (nltk)')\n",
    "BdD = []\n",
    "temps_CNB = []\n",
    "accuracy_CNB = []"
   ]
  },
  {
   "cell_type": "code",
   "execution_count": 22,
   "id": "56d2424f",
   "metadata": {},
   "outputs": [
    {
     "name": "stdout",
     "output_type": "stream",
     "text": [
      "[({'think': True}, 'pos'), ({'im': True}, 'pos'), ({'getting': True}, 'pos'), ({'sick': True}, 'pos')]\n",
      "La longueur du vocabulaire de l'échantillon est : 65294\n",
      "Les mots les plus informatifs sont :\n",
      "Most Informative Features\n",
      "                     sad = True              neg : pos    =     18.7 : 1.0\n",
      "                   sucks = True              neg : pos    =     15.0 : 1.0\n",
      "                headache = True              neg : pos    =     13.1 : 1.0\n",
      "                   thank = True              pos : neg    =     10.0 : 1.0\n",
      "                     ugh = True              neg : pos    =      9.9 : 1.0\n",
      "                 anymore = True              neg : pos    =      9.3 : 1.0\n",
      "                   cream = True              pos : neg    =      8.7 : 1.0\n",
      "                   sorry = True              neg : pos    =      8.6 : 1.0\n",
      "                    poor = True              neg : pos    =      8.6 : 1.0\n",
      "                    sick = True              neg : pos    =      7.6 : 1.0\n"
     ]
    }
   ],
   "source": [
    "BdD.append('Petit - Brut')\n",
    "accuracy, t = nltk_naive_B(X_train_1, X_test_1, 'tweet')\n",
    "temps_CNB.append(t)\n",
    "accuracy_CNB.append(accuracy)"
   ]
  },
  {
   "cell_type": "code",
   "execution_count": 23,
   "id": "bc605474",
   "metadata": {},
   "outputs": [
    {
     "name": "stdout",
     "output_type": "stream",
     "text": [
      "[({'am': True}, 'pos'), ({'getting': True}, 'pos'), ({'sick': True}, 'pos'), ({'.': True}, 'pos')]\n",
      "La longueur du vocabulaire de l'échantillon est : 58839\n",
      "Les mots les plus informatifs sont :\n",
      "Most Informative Features\n",
      "                     sad = True              neg : pos    =     20.1 : 1.0\n",
      "                     ugh = True              neg : pos    =     19.8 : 1.0\n",
      "                   sucks = True              neg : pos    =     15.4 : 1.0\n",
      "                headache = True              neg : pos    =     12.9 : 1.0\n",
      "                 welcome = True              pos : neg    =     11.7 : 1.0\n",
      "                    poor = True              neg : pos    =      9.7 : 1.0\n",
      "                 anymore = True              neg : pos    =      9.1 : 1.0\n",
      "                   cream = True              pos : neg    =      8.8 : 1.0\n",
      "                     cry = True              neg : pos    =      7.9 : 1.0\n",
      "                    sick = True              neg : pos    =      7.9 : 1.0\n"
     ]
    }
   ],
   "source": [
    "BdD.append('Petit - Nettoyé')\n",
    "accuracy, t = nltk_naive_B(X_train_1, X_test_1, 'tweet_nett')\n",
    "temps_CNB.append(t)\n",
    "accuracy_CNB.append(accuracy)"
   ]
  },
  {
   "cell_type": "code",
   "execution_count": 24,
   "id": "8ba519bf",
   "metadata": {},
   "outputs": [
    {
     "name": "stdout",
     "output_type": "stream",
     "text": [
      "[({'get': True}, 'pos'), ({'sick': True}, 'pos'), ({'try': True}, 'pos'), ({'hard': True}, 'pos')]\n",
      "La longueur du vocabulaire de l'échantillon est : 32363\n",
      "Les mots les plus informatifs sont :\n",
      "Most Informative Features\n",
      "                     sad = True              neg : pos    =     19.9 : 1.0\n",
      "                     ugh = True              neg : pos    =     19.7 : 1.0\n",
      "                     cry = True              neg : pos    =     13.4 : 1.0\n",
      "                headache = True              neg : pos    =     13.4 : 1.0\n",
      "                 welcome = True              pos : neg    =     11.8 : 1.0\n",
      "                    poor = True              neg : pos    =      9.7 : 1.0\n",
      "                   cream = True              pos : neg    =      9.6 : 1.0\n",
      "                 anymore = True              neg : pos    =      9.0 : 1.0\n",
      "                   sweet = True              pos : neg    =      8.3 : 1.0\n",
      "                    sick = True              neg : pos    =      7.8 : 1.0\n"
     ]
    }
   ],
   "source": [
    "X_train_1['tweet_lemm'] = X_train_1['tweet_lemm'].astype(str)\n",
    "\n",
    "BdD.append('Petit - Lemmatisation')\n",
    "accuracy, t = nltk_naive_B(X_train_1, X_test_1, 'tweet_lemm')\n",
    "temps_CNB.append(t)\n",
    "accuracy_CNB.append(accuracy)"
   ]
  },
  {
   "cell_type": "code",
   "execution_count": 25,
   "id": "cf7e5223",
   "metadata": {},
   "outputs": [
    {
     "name": "stdout",
     "output_type": "stream",
     "text": [
      "[({'get': True}, 'pos'), ({'sick': True}, 'pos'), ({'tri': True}, 'pos'), ({'hard': True}, 'pos')]\n",
      "La longueur du vocabulaire de l'échantillon est : 32365\n",
      "Les mots les plus informatifs sont :\n",
      "Most Informative Features\n",
      "                     sad = True              neg : pos    =     20.8 : 1.0\n",
      "                     ugh = True              neg : pos    =     19.7 : 1.0\n",
      "                 headach = True              neg : pos    =     13.5 : 1.0\n",
      "                  welcom = True              pos : neg    =     11.7 : 1.0\n",
      "                    poor = True              neg : pos    =      9.7 : 1.0\n",
      "                   cream = True              pos : neg    =      9.6 : 1.0\n",
      "                  anymor = True              neg : pos    =      9.1 : 1.0\n",
      "                     cri = True              neg : pos    =      8.5 : 1.0\n",
      "                   sweet = True              pos : neg    =      7.9 : 1.0\n",
      "                    sick = True              neg : pos    =      7.8 : 1.0\n"
     ]
    }
   ],
   "source": [
    "X_train_1['tweet_stem'] = X_train_1['tweet_stem'].astype(str)\n",
    "\n",
    "BdD.append('Petit - Racinisation')\n",
    "accuracy, t = nltk_naive_B(X_train_1, X_test_1, 'tweet_stem')\n",
    "temps_CNB.append(t)\n",
    "accuracy_CNB.append(accuracy)"
   ]
  },
  {
   "cell_type": "code",
   "execution_count": 26,
   "id": "4f2442e8",
   "metadata": {},
   "outputs": [
    {
     "name": "stdout",
     "output_type": "stream",
     "text": [
      "[({'at': True}, 'neg'), ({'PHP': True}, 'neg'), ({'IDEs': True}, 'neg'), ({'in': True}, 'neg')]\n",
      "La longueur du vocabulaire de l'échantillon est : 327033\n",
      "Les mots les plus informatifs sont :\n",
      "Most Informative Features\n",
      "            followfriday = True              pos : neg    =     22.1 : 1.0\n",
      "                     Sad = True              neg : pos    =     21.9 : 1.0\n",
      "                  throat = True              neg : pos    =     21.2 : 1.0\n",
      "                headache = True              neg : pos    =     19.4 : 1.0\n",
      "                 stomach = True              neg : pos    =     18.6 : 1.0\n",
      "           unfortunately = True              neg : pos    =     18.6 : 1.0\n",
      "                   sucks = True              neg : pos    =     18.5 : 1.0\n",
      "                   hurts = True              neg : pos    =     18.4 : 1.0\n",
      "                   broke = True              neg : pos    =     15.9 : 1.0\n",
      "                  lonely = True              neg : pos    =     15.4 : 1.0\n"
     ]
    }
   ],
   "source": [
    "BdD.append('Grand - Brut')\n",
    "accuracy, t = nltk_naive_B(X_train_2, X_test_2, 'tweet')\n",
    "temps_CNB.append(t)\n",
    "accuracy_CNB.append(accuracy)"
   ]
  },
  {
   "cell_type": "code",
   "execution_count": 27,
   "id": "88bedf84",
   "metadata": {},
   "outputs": [
    {
     "name": "stdout",
     "output_type": "stream",
     "text": [
      "[({'at': True}, 'neg'), ({'php': True}, 'neg'), ({'ides': True}, 'neg'), ({'in': True}, 'neg')]\n",
      "La longueur du vocabulaire de l'échantillon est : 294353\n",
      "Les mots les plus informatifs sont :\n",
      "Most Informative Features\n",
      "                  throat = True              neg : pos    =     21.6 : 1.0\n",
      "                headache = True              neg : pos    =     21.1 : 1.0\n",
      "                   hurts = True              neg : pos    =     18.6 : 1.0\n",
      "                 stomach = True              neg : pos    =     18.4 : 1.0\n",
      "                  lonely = True              neg : pos    =     16.4 : 1.0\n",
      "                 killing = True              neg : pos    =     15.8 : 1.0\n",
      "                     sad = True              neg : pos    =     15.8 : 1.0\n",
      "                   sucks = True              neg : pos    =     15.5 : 1.0\n",
      "                 worried = True              neg : pos    =     15.2 : 1.0\n",
      "                  losing = True              neg : pos    =     14.5 : 1.0\n"
     ]
    }
   ],
   "source": [
    "BdD.append('Grand - Nettoyé')\n",
    "accuracy, t = nltk_naive_B(X_train_2, X_test_2, 'tweet_nett')\n",
    "temps_CNB.append(t)\n",
    "accuracy_CNB.append(accuracy)"
   ]
  },
  {
   "cell_type": "code",
   "execution_count": 28,
   "id": "45330b69",
   "metadata": {},
   "outputs": [
    {
     "name": "stdout",
     "output_type": "stream",
     "text": [
      "[({'php': True}, 'neg'), ({'ides': True}, 'neg'), ({'general': True}, 'neg'), ({'why': True}, 'neg')]\n",
      "La longueur du vocabulaire de l'échantillon est : 160826\n",
      "Les mots les plus informatifs sont :\n",
      "Most Informative Features\n",
      "                  throat = True              neg : pos    =     22.6 : 1.0\n",
      "                 stomach = True              neg : pos    =     18.8 : 1.0\n",
      "                  lonely = True              neg : pos    =     16.3 : 1.0\n",
      "                headache = True              neg : pos    =     15.7 : 1.0\n",
      "                     sad = True              neg : pos    =     15.7 : 1.0\n",
      "                 worried = True              neg : pos    =     15.0 : 1.0\n",
      "                   upset = True              neg : pos    =     14.3 : 1.0\n",
      "                    argh = True              neg : pos    =     13.7 : 1.0\n",
      "                   broke = True              neg : pos    =     13.0 : 1.0\n",
      "                    ouch = True              neg : pos    =     11.8 : 1.0\n"
     ]
    }
   ],
   "source": [
    "X_train_2['tweet_lemm'] = X_train_2['tweet_lemm'].astype(str)\n",
    "X_test_2['tweet_lemm'] = X_test_2['tweet_lemm'].astype(str)\n",
    "\n",
    "BdD.append('Grand - Lemmatisation')\n",
    "accuracy, t = nltk_naive_B(X_train_2, X_test_2, 'tweet_lemm')\n",
    "temps_CNB.append(t)\n",
    "accuracy_CNB.append(accuracy)"
   ]
  },
  {
   "cell_type": "code",
   "execution_count": 29,
   "id": "70f63a50",
   "metadata": {
    "scrolled": true
   },
   "outputs": [
    {
     "name": "stdout",
     "output_type": "stream",
     "text": [
      "[({'php': True}, 'neg'), ({'ide': True}, 'neg'), ({'gener': True}, 'neg'), ({'whi': True}, 'neg')]\n",
      "La longueur du vocabulaire de l'échantillon est : 160996\n",
      "Les mots les plus informatifs sont :\n",
      "Most Informative Features\n",
      "                       ì = True              pos : neg    =     24.0 : 1.0\n",
      "                  throat = True              neg : pos    =     22.7 : 1.0\n",
      "                 stomach = True              neg : pos    =     18.9 : 1.0\n",
      "                 depress = True              neg : pos    =     17.6 : 1.0\n",
      "                    lone = True              neg : pos    =     16.3 : 1.0\n",
      "                     rip = True              neg : pos    =     16.3 : 1.0\n",
      "                 headach = True              neg : pos    =     16.0 : 1.0\n",
      "                     sad = True              neg : pos    =     15.4 : 1.0\n",
      "                   upset = True              neg : pos    =     14.4 : 1.0\n",
      "                    argh = True              neg : pos    =     13.8 : 1.0\n"
     ]
    }
   ],
   "source": [
    "X_train_2['tweet_stem'] = X_train_2['tweet_stem'].astype(str)\n",
    "X_test_2['tweet_stem'] = X_test_2['tweet_stem'].astype(str)\n",
    "\n",
    "BdD.append('Grand - Racinisation')\n",
    "accuracy, t = nltk_naive_B(X_train_2, X_test_2, 'tweet_stem')\n",
    "temps_CNB.append(t)\n",
    "accuracy_CNB.append(accuracy)"
   ]
  },
  {
   "cell_type": "markdown",
   "id": "f997a4f6",
   "metadata": {},
   "source": [
    "## Résultats"
   ]
  },
  {
   "cell_type": "code",
   "execution_count": 30,
   "id": "46344fe1",
   "metadata": {},
   "outputs": [],
   "source": [
    "# Synthèse des résultats\n",
    "resultats = {\n",
    "    'Base de données': BdD,\n",
    "    'temps': temps_CNB,\n",
    "    'accuracy': accuracy_CNB\n",
    "}\n",
    "resultats_CNB = pd.DataFrame(resultats)"
   ]
  },
  {
   "cell_type": "code",
   "execution_count": 31,
   "id": "7840ad42",
   "metadata": {
    "scrolled": true
   },
   "outputs": [
    {
     "data": {
      "text/html": [
       "<div>\n",
       "<style scoped>\n",
       "    .dataframe tbody tr th:only-of-type {\n",
       "        vertical-align: middle;\n",
       "    }\n",
       "\n",
       "    .dataframe tbody tr th {\n",
       "        vertical-align: top;\n",
       "    }\n",
       "\n",
       "    .dataframe thead th {\n",
       "        text-align: right;\n",
       "    }\n",
       "</style>\n",
       "<table border=\"1\" class=\"dataframe\">\n",
       "  <thead>\n",
       "    <tr style=\"text-align: right;\">\n",
       "      <th></th>\n",
       "      <th>Base de données</th>\n",
       "      <th>temps</th>\n",
       "      <th>accuracy</th>\n",
       "    </tr>\n",
       "  </thead>\n",
       "  <tbody>\n",
       "    <tr>\n",
       "      <th>0</th>\n",
       "      <td>Petit - Brut</td>\n",
       "      <td>3.4</td>\n",
       "      <td>0.56</td>\n",
       "    </tr>\n",
       "    <tr>\n",
       "      <th>1</th>\n",
       "      <td>Petit - Nettoyé</td>\n",
       "      <td>3.2</td>\n",
       "      <td>0.56</td>\n",
       "    </tr>\n",
       "    <tr>\n",
       "      <th>2</th>\n",
       "      <td>Petit - Lemmatisation</td>\n",
       "      <td>2.3</td>\n",
       "      <td>0.58</td>\n",
       "    </tr>\n",
       "    <tr>\n",
       "      <th>3</th>\n",
       "      <td>Petit - Racinisation</td>\n",
       "      <td>2.5</td>\n",
       "      <td>0.58</td>\n",
       "    </tr>\n",
       "    <tr>\n",
       "      <th>4</th>\n",
       "      <td>Grand - Brut</td>\n",
       "      <td>16.3</td>\n",
       "      <td>0.57</td>\n",
       "    </tr>\n",
       "    <tr>\n",
       "      <th>5</th>\n",
       "      <td>Grand - Nettoyé</td>\n",
       "      <td>16.2</td>\n",
       "      <td>0.57</td>\n",
       "    </tr>\n",
       "    <tr>\n",
       "      <th>6</th>\n",
       "      <td>Grand - Lemmatisation</td>\n",
       "      <td>13.0</td>\n",
       "      <td>0.59</td>\n",
       "    </tr>\n",
       "    <tr>\n",
       "      <th>7</th>\n",
       "      <td>Grand - Racinisation</td>\n",
       "      <td>12.5</td>\n",
       "      <td>0.59</td>\n",
       "    </tr>\n",
       "  </tbody>\n",
       "</table>\n",
       "</div>"
      ],
      "text/plain": [
       "         Base de données  temps  accuracy\n",
       "0           Petit - Brut    3.4      0.56\n",
       "1        Petit - Nettoyé    3.2      0.56\n",
       "2  Petit - Lemmatisation    2.3      0.58\n",
       "3   Petit - Racinisation    2.5      0.58\n",
       "4           Grand - Brut   16.3      0.57\n",
       "5        Grand - Nettoyé   16.2      0.57\n",
       "6  Grand - Lemmatisation   13.0      0.59\n",
       "7   Grand - Racinisation   12.5      0.59"
      ]
     },
     "execution_count": 31,
     "metadata": {},
     "output_type": "execute_result"
    }
   ],
   "source": [
    "resultats_CNB"
   ]
  },
  {
   "cell_type": "markdown",
   "id": "7aa32f1a",
   "metadata": {},
   "source": [
    "Nous pouvons voir que les résultats ne sont pas très bons. Nous constatons néanmoins que les prédictions sont légèrement meilleures pour le grand échantillon et pour les tweets qui ont eu une transformation de lemmatisation ou de racinisation après le nettoyage."
   ]
  },
  {
   "cell_type": "markdown",
   "id": "e7a1dc0d",
   "metadata": {},
   "source": [
    "# Méthode d'apprentissage classiques"
   ]
  },
  {
   "cell_type": "markdown",
   "id": "1efaaca6",
   "metadata": {},
   "source": [
    "Nous allons voir maintenant deux techniques classiques d'apprentissage supervisé. Il s'agit du classifieur Naive Bayes (du module Sklearn cette fois-ci) et de la régression logistique. Ces deux méthodes impliquent la création de features et donc d'opérer des techniques de bag of words. Ces techniques consistent à convertir les mots d'un texte par des vecteurs de nombres réels."
   ]
  },
  {
   "cell_type": "markdown",
   "id": "47546f24",
   "metadata": {},
   "source": [
    "## Création de features"
   ]
  },
  {
   "cell_type": "markdown",
   "id": "c64f37bf",
   "metadata": {},
   "source": [
    "Pour la création des features, nous allons utiliser uniquement les tweets qui ont été nettoyés et transformés (avec lemmatisation ou racinisation)."
   ]
  },
  {
   "cell_type": "markdown",
   "id": "ec14ff65",
   "metadata": {},
   "source": [
    "### Bag of words"
   ]
  },
  {
   "cell_type": "markdown",
   "id": "d619c676",
   "metadata": {},
   "source": [
    "Nous allons maintenant représenter chaque commentaire par un vecteur de la taille du vocabulaire du corpus (bag of words). La valeur du vecteur indique le nombre d'occurence d'un mot dans le commentaire."
   ]
  },
  {
   "cell_type": "code",
   "execution_count": 32,
   "id": "c0ee7c0b",
   "metadata": {},
   "outputs": [],
   "source": [
    "l = len(X_tweet_1['tweet_lemm'])"
   ]
  },
  {
   "cell_type": "code",
   "execution_count": 33,
   "id": "441c8eb5",
   "metadata": {},
   "outputs": [
    {
     "data": {
      "text/plain": [
       "0       if something could go wrong today sure baddddd...\n",
       "1                                    really unhappy today\n",
       "2                           user metsies fan also boo hoo\n",
       "3                                     day loooooooooooong\n",
       "4                         drinking wonder if think broken\n",
       "                              ...                        \n",
       "4995    cry busy pressure aaaarrrrrgh gona explode o n...\n",
       "4996    user good warn trust emoticon clindoeil via us...\n",
       "4997                           user awe wei amie adorable\n",
       "4998             new cousin call billie jack amos thomson\n",
       "4999                               stuff deviant art page\n",
       "Name: tweet_lemm, Length: 5000, dtype: object"
      ]
     },
     "execution_count": 33,
     "metadata": {},
     "output_type": "execute_result"
    }
   ],
   "source": [
    "X_tweet_1['tweet_lemm']"
   ]
  },
  {
   "cell_type": "markdown",
   "id": "cc034481",
   "metadata": {},
   "source": [
    "Afin de définir le bag of words nous prenons deux précautions. \n",
    "D'abord, nous définissons le n-gram. Dans notre cas, nous prendrons des unigrammes, des mots uniques. un n-gramme est une suite de n mots qui se suivent dans un commentaire. \n",
    "Ensuite, nous devons nous poser la question de la fréquence maximale et la fréquence minimale d'apparition du n-gramme pour qu'il soit sélectionné dans notre bag of words. Aussi, cette précaution permet de ne pas avoir trop de vocabulaire dans notre bag of words et ainsi trop de variables qui caractérisent nos commentaires."
   ]
  },
  {
   "cell_type": "markdown",
   "id": "6bbb458b",
   "metadata": {},
   "source": [
    "#### Création de la fonction pour les Bag of Words"
   ]
  },
  {
   "cell_type": "markdown",
   "id": "bdf6a977",
   "metadata": {},
   "source": [
    "#### Création des Bags of Words"
   ]
  },
  {
   "cell_type": "code",
   "execution_count": 35,
   "id": "f73dd231",
   "metadata": {},
   "outputs": [
    {
     "data": {
      "text/html": [
       "<div>\n",
       "<style scoped>\n",
       "    .dataframe tbody tr th:only-of-type {\n",
       "        vertical-align: middle;\n",
       "    }\n",
       "\n",
       "    .dataframe tbody tr th {\n",
       "        vertical-align: top;\n",
       "    }\n",
       "\n",
       "    .dataframe thead th {\n",
       "        text-align: right;\n",
       "    }\n",
       "</style>\n",
       "<table border=\"1\" class=\"dataframe\">\n",
       "  <thead>\n",
       "    <tr style=\"text-align: right;\">\n",
       "      <th></th>\n",
       "      <th>able</th>\n",
       "      <th>absolutely</th>\n",
       "      <th>actually</th>\n",
       "      <th>add</th>\n",
       "      <th>afternoon</th>\n",
       "      <th>ago</th>\n",
       "      <th>agree</th>\n",
       "      <th>ah</th>\n",
       "      <th>ahh</th>\n",
       "      <th>album</th>\n",
       "      <th>...</th>\n",
       "      <th>yay</th>\n",
       "      <th>yea</th>\n",
       "      <th>yeah</th>\n",
       "      <th>year</th>\n",
       "      <th>yep</th>\n",
       "      <th>yes</th>\n",
       "      <th>yesterday</th>\n",
       "      <th>yet</th>\n",
       "      <th>young</th>\n",
       "      <th>youtube</th>\n",
       "    </tr>\n",
       "  </thead>\n",
       "  <tbody>\n",
       "    <tr>\n",
       "      <th>0</th>\n",
       "      <td>0</td>\n",
       "      <td>0</td>\n",
       "      <td>0</td>\n",
       "      <td>0</td>\n",
       "      <td>0</td>\n",
       "      <td>0</td>\n",
       "      <td>0</td>\n",
       "      <td>0</td>\n",
       "      <td>0</td>\n",
       "      <td>0</td>\n",
       "      <td>...</td>\n",
       "      <td>0</td>\n",
       "      <td>0</td>\n",
       "      <td>0</td>\n",
       "      <td>0</td>\n",
       "      <td>0</td>\n",
       "      <td>0</td>\n",
       "      <td>0</td>\n",
       "      <td>0</td>\n",
       "      <td>0</td>\n",
       "      <td>0</td>\n",
       "    </tr>\n",
       "    <tr>\n",
       "      <th>1</th>\n",
       "      <td>0</td>\n",
       "      <td>0</td>\n",
       "      <td>0</td>\n",
       "      <td>0</td>\n",
       "      <td>0</td>\n",
       "      <td>0</td>\n",
       "      <td>0</td>\n",
       "      <td>0</td>\n",
       "      <td>0</td>\n",
       "      <td>0</td>\n",
       "      <td>...</td>\n",
       "      <td>0</td>\n",
       "      <td>0</td>\n",
       "      <td>0</td>\n",
       "      <td>0</td>\n",
       "      <td>0</td>\n",
       "      <td>0</td>\n",
       "      <td>0</td>\n",
       "      <td>0</td>\n",
       "      <td>0</td>\n",
       "      <td>0</td>\n",
       "    </tr>\n",
       "    <tr>\n",
       "      <th>2</th>\n",
       "      <td>0</td>\n",
       "      <td>0</td>\n",
       "      <td>0</td>\n",
       "      <td>0</td>\n",
       "      <td>0</td>\n",
       "      <td>0</td>\n",
       "      <td>0</td>\n",
       "      <td>0</td>\n",
       "      <td>0</td>\n",
       "      <td>0</td>\n",
       "      <td>...</td>\n",
       "      <td>0</td>\n",
       "      <td>0</td>\n",
       "      <td>0</td>\n",
       "      <td>0</td>\n",
       "      <td>0</td>\n",
       "      <td>0</td>\n",
       "      <td>0</td>\n",
       "      <td>0</td>\n",
       "      <td>0</td>\n",
       "      <td>0</td>\n",
       "    </tr>\n",
       "    <tr>\n",
       "      <th>3</th>\n",
       "      <td>0</td>\n",
       "      <td>0</td>\n",
       "      <td>0</td>\n",
       "      <td>0</td>\n",
       "      <td>0</td>\n",
       "      <td>0</td>\n",
       "      <td>0</td>\n",
       "      <td>0</td>\n",
       "      <td>0</td>\n",
       "      <td>0</td>\n",
       "      <td>...</td>\n",
       "      <td>0</td>\n",
       "      <td>0</td>\n",
       "      <td>0</td>\n",
       "      <td>0</td>\n",
       "      <td>0</td>\n",
       "      <td>0</td>\n",
       "      <td>0</td>\n",
       "      <td>0</td>\n",
       "      <td>0</td>\n",
       "      <td>0</td>\n",
       "    </tr>\n",
       "    <tr>\n",
       "      <th>4</th>\n",
       "      <td>0</td>\n",
       "      <td>0</td>\n",
       "      <td>0</td>\n",
       "      <td>0</td>\n",
       "      <td>0</td>\n",
       "      <td>0</td>\n",
       "      <td>0</td>\n",
       "      <td>0</td>\n",
       "      <td>0</td>\n",
       "      <td>0</td>\n",
       "      <td>...</td>\n",
       "      <td>0</td>\n",
       "      <td>0</td>\n",
       "      <td>0</td>\n",
       "      <td>0</td>\n",
       "      <td>0</td>\n",
       "      <td>0</td>\n",
       "      <td>0</td>\n",
       "      <td>0</td>\n",
       "      <td>0</td>\n",
       "      <td>0</td>\n",
       "    </tr>\n",
       "  </tbody>\n",
       "</table>\n",
       "<p>5 rows × 587 columns</p>\n",
       "</div>"
      ],
      "text/plain": [
       "   able  absolutely  actually  add  afternoon  ago  agree  ah  ahh  album  \\\n",
       "0     0           0         0    0          0    0      0   0    0      0   \n",
       "1     0           0         0    0          0    0      0   0    0      0   \n",
       "2     0           0         0    0          0    0      0   0    0      0   \n",
       "3     0           0         0    0          0    0      0   0    0      0   \n",
       "4     0           0         0    0          0    0      0   0    0      0   \n",
       "\n",
       "   ...  yay  yea  yeah  year  yep  yes  yesterday  yet  young  youtube  \n",
       "0  ...    0    0     0     0    0    0          0    0      0        0  \n",
       "1  ...    0    0     0     0    0    0          0    0      0        0  \n",
       "2  ...    0    0     0     0    0    0          0    0      0        0  \n",
       "3  ...    0    0     0     0    0    0          0    0      0        0  \n",
       "4  ...    0    0     0     0    0    0          0    0      0        0  \n",
       "\n",
       "[5 rows x 587 columns]"
      ]
     },
     "metadata": {},
     "output_type": "display_data"
    },
    {
     "data": {
      "text/html": [
       "<div>\n",
       "<style scoped>\n",
       "    .dataframe tbody tr th:only-of-type {\n",
       "        vertical-align: middle;\n",
       "    }\n",
       "\n",
       "    .dataframe tbody tr th {\n",
       "        vertical-align: top;\n",
       "    }\n",
       "\n",
       "    .dataframe thead th {\n",
       "        text-align: right;\n",
       "    }\n",
       "</style>\n",
       "<table border=\"1\" class=\"dataframe\">\n",
       "  <thead>\n",
       "    <tr style=\"text-align: right;\">\n",
       "      <th></th>\n",
       "      <th>mot</th>\n",
       "      <th>nombre</th>\n",
       "    </tr>\n",
       "  </thead>\n",
       "  <tbody>\n",
       "    <tr>\n",
       "      <th>345</th>\n",
       "      <td>not</td>\n",
       "      <td>981</td>\n",
       "    </tr>\n",
       "    <tr>\n",
       "      <th>192</th>\n",
       "      <td>get</td>\n",
       "      <td>584</td>\n",
       "    </tr>\n",
       "    <tr>\n",
       "      <th>197</th>\n",
       "      <td>go</td>\n",
       "      <td>440</td>\n",
       "    </tr>\n",
       "    <tr>\n",
       "      <th>70</th>\n",
       "      <td>but</td>\n",
       "      <td>422</td>\n",
       "    </tr>\n",
       "    <tr>\n",
       "      <th>117</th>\n",
       "      <td>day</td>\n",
       "      <td>337</td>\n",
       "    </tr>\n",
       "  </tbody>\n",
       "</table>\n",
       "</div>"
      ],
      "text/plain": [
       "     mot  nombre\n",
       "345  not     981\n",
       "192  get     584\n",
       "197   go     440\n",
       "70   but     422\n",
       "117  day     337"
      ]
     },
     "metadata": {},
     "output_type": "display_data"
    }
   ],
   "source": [
    "df_bow_1_l, vecteur_bow_1_l = df_bow(X_tweet_1['tweet_lemm'], 10, 1000)"
   ]
  },
  {
   "cell_type": "code",
   "execution_count": 36,
   "id": "9f8aff18",
   "metadata": {},
   "outputs": [
    {
     "data": {
      "text/html": [
       "<div>\n",
       "<style scoped>\n",
       "    .dataframe tbody tr th:only-of-type {\n",
       "        vertical-align: middle;\n",
       "    }\n",
       "\n",
       "    .dataframe tbody tr th {\n",
       "        vertical-align: top;\n",
       "    }\n",
       "\n",
       "    .dataframe thead th {\n",
       "        text-align: right;\n",
       "    }\n",
       "</style>\n",
       "<table border=\"1\" class=\"dataframe\">\n",
       "  <thead>\n",
       "    <tr style=\"text-align: right;\">\n",
       "      <th></th>\n",
       "      <th>able</th>\n",
       "      <th>account</th>\n",
       "      <th>actually</th>\n",
       "      <th>add</th>\n",
       "      <th>afternoon</th>\n",
       "      <th>ago</th>\n",
       "      <th>agree</th>\n",
       "      <th>ah</th>\n",
       "      <th>ahh</th>\n",
       "      <th>air</th>\n",
       "      <th>...</th>\n",
       "      <th>www</th>\n",
       "      <th>xx</th>\n",
       "      <th>ya</th>\n",
       "      <th>yay</th>\n",
       "      <th>yea</th>\n",
       "      <th>yeah</th>\n",
       "      <th>year</th>\n",
       "      <th>yes</th>\n",
       "      <th>yesterday</th>\n",
       "      <th>yet</th>\n",
       "    </tr>\n",
       "  </thead>\n",
       "  <tbody>\n",
       "    <tr>\n",
       "      <th>0</th>\n",
       "      <td>0</td>\n",
       "      <td>0</td>\n",
       "      <td>0</td>\n",
       "      <td>0</td>\n",
       "      <td>0</td>\n",
       "      <td>0</td>\n",
       "      <td>0</td>\n",
       "      <td>0</td>\n",
       "      <td>0</td>\n",
       "      <td>0</td>\n",
       "      <td>...</td>\n",
       "      <td>0</td>\n",
       "      <td>0</td>\n",
       "      <td>0</td>\n",
       "      <td>0</td>\n",
       "      <td>0</td>\n",
       "      <td>0</td>\n",
       "      <td>0</td>\n",
       "      <td>0</td>\n",
       "      <td>0</td>\n",
       "      <td>0</td>\n",
       "    </tr>\n",
       "    <tr>\n",
       "      <th>1</th>\n",
       "      <td>0</td>\n",
       "      <td>0</td>\n",
       "      <td>0</td>\n",
       "      <td>0</td>\n",
       "      <td>0</td>\n",
       "      <td>0</td>\n",
       "      <td>0</td>\n",
       "      <td>0</td>\n",
       "      <td>0</td>\n",
       "      <td>0</td>\n",
       "      <td>...</td>\n",
       "      <td>0</td>\n",
       "      <td>0</td>\n",
       "      <td>0</td>\n",
       "      <td>0</td>\n",
       "      <td>0</td>\n",
       "      <td>0</td>\n",
       "      <td>0</td>\n",
       "      <td>0</td>\n",
       "      <td>0</td>\n",
       "      <td>0</td>\n",
       "    </tr>\n",
       "    <tr>\n",
       "      <th>2</th>\n",
       "      <td>0</td>\n",
       "      <td>0</td>\n",
       "      <td>0</td>\n",
       "      <td>0</td>\n",
       "      <td>0</td>\n",
       "      <td>0</td>\n",
       "      <td>0</td>\n",
       "      <td>0</td>\n",
       "      <td>0</td>\n",
       "      <td>0</td>\n",
       "      <td>...</td>\n",
       "      <td>0</td>\n",
       "      <td>0</td>\n",
       "      <td>0</td>\n",
       "      <td>0</td>\n",
       "      <td>0</td>\n",
       "      <td>0</td>\n",
       "      <td>0</td>\n",
       "      <td>0</td>\n",
       "      <td>0</td>\n",
       "      <td>0</td>\n",
       "    </tr>\n",
       "    <tr>\n",
       "      <th>3</th>\n",
       "      <td>0</td>\n",
       "      <td>0</td>\n",
       "      <td>0</td>\n",
       "      <td>0</td>\n",
       "      <td>0</td>\n",
       "      <td>0</td>\n",
       "      <td>0</td>\n",
       "      <td>0</td>\n",
       "      <td>0</td>\n",
       "      <td>0</td>\n",
       "      <td>...</td>\n",
       "      <td>0</td>\n",
       "      <td>0</td>\n",
       "      <td>0</td>\n",
       "      <td>0</td>\n",
       "      <td>0</td>\n",
       "      <td>0</td>\n",
       "      <td>0</td>\n",
       "      <td>0</td>\n",
       "      <td>0</td>\n",
       "      <td>0</td>\n",
       "    </tr>\n",
       "    <tr>\n",
       "      <th>4</th>\n",
       "      <td>0</td>\n",
       "      <td>0</td>\n",
       "      <td>0</td>\n",
       "      <td>0</td>\n",
       "      <td>0</td>\n",
       "      <td>0</td>\n",
       "      <td>0</td>\n",
       "      <td>0</td>\n",
       "      <td>0</td>\n",
       "      <td>0</td>\n",
       "      <td>...</td>\n",
       "      <td>0</td>\n",
       "      <td>0</td>\n",
       "      <td>0</td>\n",
       "      <td>0</td>\n",
       "      <td>0</td>\n",
       "      <td>0</td>\n",
       "      <td>0</td>\n",
       "      <td>0</td>\n",
       "      <td>0</td>\n",
       "      <td>0</td>\n",
       "    </tr>\n",
       "  </tbody>\n",
       "</table>\n",
       "<p>5 rows × 560 columns</p>\n",
       "</div>"
      ],
      "text/plain": [
       "   able  account  actually  add  afternoon  ago  agree  ah  ahh  air  ...  \\\n",
       "0     0        0         0    0          0    0      0   0    0    0  ...   \n",
       "1     0        0         0    0          0    0      0   0    0    0  ...   \n",
       "2     0        0         0    0          0    0      0   0    0    0  ...   \n",
       "3     0        0         0    0          0    0      0   0    0    0  ...   \n",
       "4     0        0         0    0          0    0      0   0    0    0  ...   \n",
       "\n",
       "   www  xx  ya  yay  yea  yeah  year  yes  yesterday  yet  \n",
       "0    0   0   0    0    0     0     0    0          0    0  \n",
       "1    0   0   0    0    0     0     0    0          0    0  \n",
       "2    0   0   0    0    0     0     0    0          0    0  \n",
       "3    0   0   0    0    0     0     0    0          0    0  \n",
       "4    0   0   0    0    0     0     0    0          0    0  \n",
       "\n",
       "[5 rows x 560 columns]"
      ]
     },
     "metadata": {},
     "output_type": "display_data"
    },
    {
     "data": {
      "text/html": [
       "<div>\n",
       "<style scoped>\n",
       "    .dataframe tbody tr th:only-of-type {\n",
       "        vertical-align: middle;\n",
       "    }\n",
       "\n",
       "    .dataframe tbody tr th {\n",
       "        vertical-align: top;\n",
       "    }\n",
       "\n",
       "    .dataframe thead th {\n",
       "        text-align: right;\n",
       "    }\n",
       "</style>\n",
       "<table border=\"1\" class=\"dataframe\">\n",
       "  <thead>\n",
       "    <tr style=\"text-align: right;\">\n",
       "      <th></th>\n",
       "      <th>mot</th>\n",
       "      <th>nombre</th>\n",
       "    </tr>\n",
       "  </thead>\n",
       "  <tbody>\n",
       "    <tr>\n",
       "      <th>328</th>\n",
       "      <td>not</td>\n",
       "      <td>5057</td>\n",
       "    </tr>\n",
       "    <tr>\n",
       "      <th>184</th>\n",
       "      <td>go</td>\n",
       "      <td>2644</td>\n",
       "    </tr>\n",
       "    <tr>\n",
       "      <th>179</th>\n",
       "      <td>get</td>\n",
       "      <td>2611</td>\n",
       "    </tr>\n",
       "    <tr>\n",
       "      <th>65</th>\n",
       "      <td>but</td>\n",
       "      <td>2041</td>\n",
       "    </tr>\n",
       "    <tr>\n",
       "      <th>109</th>\n",
       "      <td>day</td>\n",
       "      <td>1760</td>\n",
       "    </tr>\n",
       "  </tbody>\n",
       "</table>\n",
       "</div>"
      ],
      "text/plain": [
       "     mot  nombre\n",
       "328  not    5057\n",
       "184   go    2644\n",
       "179  get    2611\n",
       "65   but    2041\n",
       "109  day    1760"
      ]
     },
     "metadata": {},
     "output_type": "display_data"
    }
   ],
   "source": [
    "df_bow_2_l, vecteur_bow_2_l = df_bow(X_tweet_2['tweet_lemm'], 50, 5000)"
   ]
  },
  {
   "cell_type": "code",
   "execution_count": 37,
   "id": "72b5ce78",
   "metadata": {},
   "outputs": [
    {
     "data": {
      "text/html": [
       "<div>\n",
       "<style scoped>\n",
       "    .dataframe tbody tr th:only-of-type {\n",
       "        vertical-align: middle;\n",
       "    }\n",
       "\n",
       "    .dataframe tbody tr th {\n",
       "        vertical-align: top;\n",
       "    }\n",
       "\n",
       "    .dataframe thead th {\n",
       "        text-align: right;\n",
       "    }\n",
       "</style>\n",
       "<table border=\"1\" class=\"dataframe\">\n",
       "  <thead>\n",
       "    <tr style=\"text-align: right;\">\n",
       "      <th></th>\n",
       "      <th>abl</th>\n",
       "      <th>absolut</th>\n",
       "      <th>actual</th>\n",
       "      <th>ad</th>\n",
       "      <th>afternoon</th>\n",
       "      <th>ago</th>\n",
       "      <th>agre</th>\n",
       "      <th>ah</th>\n",
       "      <th>ahh</th>\n",
       "      <th>album</th>\n",
       "      <th>...</th>\n",
       "      <th>ya</th>\n",
       "      <th>yay</th>\n",
       "      <th>ye</th>\n",
       "      <th>yea</th>\n",
       "      <th>yeah</th>\n",
       "      <th>year</th>\n",
       "      <th>yep</th>\n",
       "      <th>yesterday</th>\n",
       "      <th>yet</th>\n",
       "      <th>youtub</th>\n",
       "    </tr>\n",
       "  </thead>\n",
       "  <tbody>\n",
       "    <tr>\n",
       "      <th>0</th>\n",
       "      <td>0</td>\n",
       "      <td>0</td>\n",
       "      <td>0</td>\n",
       "      <td>0</td>\n",
       "      <td>0</td>\n",
       "      <td>0</td>\n",
       "      <td>0</td>\n",
       "      <td>0</td>\n",
       "      <td>0</td>\n",
       "      <td>0</td>\n",
       "      <td>...</td>\n",
       "      <td>0</td>\n",
       "      <td>0</td>\n",
       "      <td>0</td>\n",
       "      <td>0</td>\n",
       "      <td>0</td>\n",
       "      <td>0</td>\n",
       "      <td>0</td>\n",
       "      <td>0</td>\n",
       "      <td>0</td>\n",
       "      <td>0</td>\n",
       "    </tr>\n",
       "    <tr>\n",
       "      <th>1</th>\n",
       "      <td>0</td>\n",
       "      <td>0</td>\n",
       "      <td>0</td>\n",
       "      <td>0</td>\n",
       "      <td>0</td>\n",
       "      <td>0</td>\n",
       "      <td>0</td>\n",
       "      <td>0</td>\n",
       "      <td>0</td>\n",
       "      <td>0</td>\n",
       "      <td>...</td>\n",
       "      <td>0</td>\n",
       "      <td>0</td>\n",
       "      <td>0</td>\n",
       "      <td>0</td>\n",
       "      <td>0</td>\n",
       "      <td>0</td>\n",
       "      <td>0</td>\n",
       "      <td>0</td>\n",
       "      <td>0</td>\n",
       "      <td>0</td>\n",
       "    </tr>\n",
       "    <tr>\n",
       "      <th>2</th>\n",
       "      <td>0</td>\n",
       "      <td>0</td>\n",
       "      <td>0</td>\n",
       "      <td>0</td>\n",
       "      <td>0</td>\n",
       "      <td>0</td>\n",
       "      <td>0</td>\n",
       "      <td>0</td>\n",
       "      <td>0</td>\n",
       "      <td>0</td>\n",
       "      <td>...</td>\n",
       "      <td>0</td>\n",
       "      <td>0</td>\n",
       "      <td>0</td>\n",
       "      <td>0</td>\n",
       "      <td>0</td>\n",
       "      <td>0</td>\n",
       "      <td>0</td>\n",
       "      <td>0</td>\n",
       "      <td>0</td>\n",
       "      <td>0</td>\n",
       "    </tr>\n",
       "    <tr>\n",
       "      <th>3</th>\n",
       "      <td>0</td>\n",
       "      <td>0</td>\n",
       "      <td>0</td>\n",
       "      <td>0</td>\n",
       "      <td>0</td>\n",
       "      <td>0</td>\n",
       "      <td>0</td>\n",
       "      <td>0</td>\n",
       "      <td>0</td>\n",
       "      <td>0</td>\n",
       "      <td>...</td>\n",
       "      <td>0</td>\n",
       "      <td>0</td>\n",
       "      <td>0</td>\n",
       "      <td>0</td>\n",
       "      <td>0</td>\n",
       "      <td>0</td>\n",
       "      <td>0</td>\n",
       "      <td>0</td>\n",
       "      <td>0</td>\n",
       "      <td>0</td>\n",
       "    </tr>\n",
       "    <tr>\n",
       "      <th>4</th>\n",
       "      <td>0</td>\n",
       "      <td>0</td>\n",
       "      <td>0</td>\n",
       "      <td>0</td>\n",
       "      <td>0</td>\n",
       "      <td>0</td>\n",
       "      <td>0</td>\n",
       "      <td>0</td>\n",
       "      <td>0</td>\n",
       "      <td>0</td>\n",
       "      <td>...</td>\n",
       "      <td>0</td>\n",
       "      <td>0</td>\n",
       "      <td>0</td>\n",
       "      <td>0</td>\n",
       "      <td>0</td>\n",
       "      <td>0</td>\n",
       "      <td>0</td>\n",
       "      <td>0</td>\n",
       "      <td>0</td>\n",
       "      <td>0</td>\n",
       "    </tr>\n",
       "  </tbody>\n",
       "</table>\n",
       "<p>5 rows × 605 columns</p>\n",
       "</div>"
      ],
      "text/plain": [
       "   abl  absolut  actual  ad  afternoon  ago  agre  ah  ahh  album  ...  ya  \\\n",
       "0    0        0       0   0          0    0     0   0    0      0  ...   0   \n",
       "1    0        0       0   0          0    0     0   0    0      0  ...   0   \n",
       "2    0        0       0   0          0    0     0   0    0      0  ...   0   \n",
       "3    0        0       0   0          0    0     0   0    0      0  ...   0   \n",
       "4    0        0       0   0          0    0     0   0    0      0  ...   0   \n",
       "\n",
       "   yay  ye  yea  yeah  year  yep  yesterday  yet  youtub  \n",
       "0    0   0    0     0     0    0          0    0       0  \n",
       "1    0   0    0     0     0    0          0    0       0  \n",
       "2    0   0    0     0     0    0          0    0       0  \n",
       "3    0   0    0     0     0    0          0    0       0  \n",
       "4    0   0    0     0     0    0          0    0       0  \n",
       "\n",
       "[5 rows x 605 columns]"
      ]
     },
     "metadata": {},
     "output_type": "display_data"
    },
    {
     "data": {
      "text/html": [
       "<div>\n",
       "<style scoped>\n",
       "    .dataframe tbody tr th:only-of-type {\n",
       "        vertical-align: middle;\n",
       "    }\n",
       "\n",
       "    .dataframe tbody tr th {\n",
       "        vertical-align: top;\n",
       "    }\n",
       "\n",
       "    .dataframe thead th {\n",
       "        text-align: right;\n",
       "    }\n",
       "</style>\n",
       "<table border=\"1\" class=\"dataframe\">\n",
       "  <thead>\n",
       "    <tr style=\"text-align: right;\">\n",
       "      <th></th>\n",
       "      <th>mot</th>\n",
       "      <th>nombre</th>\n",
       "    </tr>\n",
       "  </thead>\n",
       "  <tbody>\n",
       "    <tr>\n",
       "      <th>359</th>\n",
       "      <td>not</td>\n",
       "      <td>999</td>\n",
       "    </tr>\n",
       "    <tr>\n",
       "      <th>74</th>\n",
       "      <td>but</td>\n",
       "      <td>422</td>\n",
       "    </tr>\n",
       "    <tr>\n",
       "      <th>206</th>\n",
       "      <td>go</td>\n",
       "      <td>372</td>\n",
       "    </tr>\n",
       "    <tr>\n",
       "      <th>202</th>\n",
       "      <td>get</td>\n",
       "      <td>355</td>\n",
       "    </tr>\n",
       "    <tr>\n",
       "      <th>121</th>\n",
       "      <td>day</td>\n",
       "      <td>337</td>\n",
       "    </tr>\n",
       "  </tbody>\n",
       "</table>\n",
       "</div>"
      ],
      "text/plain": [
       "     mot  nombre\n",
       "359  not     999\n",
       "74   but     422\n",
       "206   go     372\n",
       "202  get     355\n",
       "121  day     337"
      ]
     },
     "metadata": {},
     "output_type": "display_data"
    }
   ],
   "source": [
    "df_bow_1_s, vecteur_bow_1_s = df_bow(X_tweet_1['tweet_stem'], 10, 1000)"
   ]
  },
  {
   "cell_type": "code",
   "execution_count": 38,
   "id": "e0b9a964",
   "metadata": {
    "scrolled": true
   },
   "outputs": [
    {
     "data": {
      "text/html": [
       "<div>\n",
       "<style scoped>\n",
       "    .dataframe tbody tr th:only-of-type {\n",
       "        vertical-align: middle;\n",
       "    }\n",
       "\n",
       "    .dataframe tbody tr th {\n",
       "        vertical-align: top;\n",
       "    }\n",
       "\n",
       "    .dataframe thead th {\n",
       "        text-align: right;\n",
       "    }\n",
       "</style>\n",
       "<table border=\"1\" class=\"dataframe\">\n",
       "  <thead>\n",
       "    <tr style=\"text-align: right;\">\n",
       "      <th></th>\n",
       "      <th>abl</th>\n",
       "      <th>account</th>\n",
       "      <th>actual</th>\n",
       "      <th>add</th>\n",
       "      <th>afternoon</th>\n",
       "      <th>ago</th>\n",
       "      <th>agre</th>\n",
       "      <th>ah</th>\n",
       "      <th>ahh</th>\n",
       "      <th>air</th>\n",
       "      <th>...</th>\n",
       "      <th>www</th>\n",
       "      <th>xx</th>\n",
       "      <th>ya</th>\n",
       "      <th>yay</th>\n",
       "      <th>ye</th>\n",
       "      <th>yea</th>\n",
       "      <th>yeah</th>\n",
       "      <th>year</th>\n",
       "      <th>yesterday</th>\n",
       "      <th>yet</th>\n",
       "    </tr>\n",
       "  </thead>\n",
       "  <tbody>\n",
       "    <tr>\n",
       "      <th>0</th>\n",
       "      <td>0</td>\n",
       "      <td>0</td>\n",
       "      <td>0</td>\n",
       "      <td>0</td>\n",
       "      <td>0</td>\n",
       "      <td>0</td>\n",
       "      <td>0</td>\n",
       "      <td>0</td>\n",
       "      <td>0</td>\n",
       "      <td>0</td>\n",
       "      <td>...</td>\n",
       "      <td>0</td>\n",
       "      <td>0</td>\n",
       "      <td>0</td>\n",
       "      <td>0</td>\n",
       "      <td>0</td>\n",
       "      <td>0</td>\n",
       "      <td>0</td>\n",
       "      <td>0</td>\n",
       "      <td>0</td>\n",
       "      <td>0</td>\n",
       "    </tr>\n",
       "    <tr>\n",
       "      <th>1</th>\n",
       "      <td>0</td>\n",
       "      <td>0</td>\n",
       "      <td>0</td>\n",
       "      <td>0</td>\n",
       "      <td>0</td>\n",
       "      <td>0</td>\n",
       "      <td>0</td>\n",
       "      <td>0</td>\n",
       "      <td>0</td>\n",
       "      <td>0</td>\n",
       "      <td>...</td>\n",
       "      <td>0</td>\n",
       "      <td>0</td>\n",
       "      <td>0</td>\n",
       "      <td>0</td>\n",
       "      <td>0</td>\n",
       "      <td>0</td>\n",
       "      <td>0</td>\n",
       "      <td>0</td>\n",
       "      <td>0</td>\n",
       "      <td>0</td>\n",
       "    </tr>\n",
       "    <tr>\n",
       "      <th>2</th>\n",
       "      <td>0</td>\n",
       "      <td>0</td>\n",
       "      <td>0</td>\n",
       "      <td>0</td>\n",
       "      <td>0</td>\n",
       "      <td>0</td>\n",
       "      <td>0</td>\n",
       "      <td>0</td>\n",
       "      <td>0</td>\n",
       "      <td>0</td>\n",
       "      <td>...</td>\n",
       "      <td>0</td>\n",
       "      <td>0</td>\n",
       "      <td>0</td>\n",
       "      <td>0</td>\n",
       "      <td>0</td>\n",
       "      <td>0</td>\n",
       "      <td>0</td>\n",
       "      <td>0</td>\n",
       "      <td>0</td>\n",
       "      <td>0</td>\n",
       "    </tr>\n",
       "    <tr>\n",
       "      <th>3</th>\n",
       "      <td>0</td>\n",
       "      <td>0</td>\n",
       "      <td>0</td>\n",
       "      <td>0</td>\n",
       "      <td>0</td>\n",
       "      <td>0</td>\n",
       "      <td>0</td>\n",
       "      <td>0</td>\n",
       "      <td>0</td>\n",
       "      <td>0</td>\n",
       "      <td>...</td>\n",
       "      <td>0</td>\n",
       "      <td>0</td>\n",
       "      <td>0</td>\n",
       "      <td>0</td>\n",
       "      <td>0</td>\n",
       "      <td>0</td>\n",
       "      <td>0</td>\n",
       "      <td>0</td>\n",
       "      <td>0</td>\n",
       "      <td>0</td>\n",
       "    </tr>\n",
       "    <tr>\n",
       "      <th>4</th>\n",
       "      <td>0</td>\n",
       "      <td>0</td>\n",
       "      <td>0</td>\n",
       "      <td>0</td>\n",
       "      <td>0</td>\n",
       "      <td>0</td>\n",
       "      <td>0</td>\n",
       "      <td>0</td>\n",
       "      <td>0</td>\n",
       "      <td>0</td>\n",
       "      <td>...</td>\n",
       "      <td>0</td>\n",
       "      <td>0</td>\n",
       "      <td>0</td>\n",
       "      <td>0</td>\n",
       "      <td>0</td>\n",
       "      <td>0</td>\n",
       "      <td>0</td>\n",
       "      <td>0</td>\n",
       "      <td>0</td>\n",
       "      <td>0</td>\n",
       "    </tr>\n",
       "  </tbody>\n",
       "</table>\n",
       "<p>5 rows × 579 columns</p>\n",
       "</div>"
      ],
      "text/plain": [
       "   abl  account  actual  add  afternoon  ago  agre  ah  ahh  air  ...  www  \\\n",
       "0    0        0       0    0          0    0     0   0    0    0  ...    0   \n",
       "1    0        0       0    0          0    0     0   0    0    0  ...    0   \n",
       "2    0        0       0    0          0    0     0   0    0    0  ...    0   \n",
       "3    0        0       0    0          0    0     0   0    0    0  ...    0   \n",
       "4    0        0       0    0          0    0     0   0    0    0  ...    0   \n",
       "\n",
       "   xx  ya  yay  ye  yea  yeah  year  yesterday  yet  \n",
       "0   0   0    0   0    0     0     0          0    0  \n",
       "1   0   0    0   0    0     0     0          0    0  \n",
       "2   0   0    0   0    0     0     0          0    0  \n",
       "3   0   0    0   0    0     0     0          0    0  \n",
       "4   0   0    0   0    0     0     0          0    0  \n",
       "\n",
       "[5 rows x 579 columns]"
      ]
     },
     "metadata": {},
     "output_type": "display_data"
    },
    {
     "data": {
      "text/html": [
       "<div>\n",
       "<style scoped>\n",
       "    .dataframe tbody tr th:only-of-type {\n",
       "        vertical-align: middle;\n",
       "    }\n",
       "\n",
       "    .dataframe tbody tr th {\n",
       "        vertical-align: top;\n",
       "    }\n",
       "\n",
       "    .dataframe thead th {\n",
       "        text-align: right;\n",
       "    }\n",
       "</style>\n",
       "<table border=\"1\" class=\"dataframe\">\n",
       "  <thead>\n",
       "    <tr style=\"text-align: right;\">\n",
       "      <th></th>\n",
       "      <th>mot</th>\n",
       "      <th>nombre</th>\n",
       "    </tr>\n",
       "  </thead>\n",
       "  <tbody>\n",
       "    <tr>\n",
       "      <th>340</th>\n",
       "      <td>not</td>\n",
       "      <td>5129</td>\n",
       "    </tr>\n",
       "    <tr>\n",
       "      <th>194</th>\n",
       "      <td>go</td>\n",
       "      <td>2243</td>\n",
       "    </tr>\n",
       "    <tr>\n",
       "      <th>68</th>\n",
       "      <td>but</td>\n",
       "      <td>2041</td>\n",
       "    </tr>\n",
       "    <tr>\n",
       "      <th>113</th>\n",
       "      <td>day</td>\n",
       "      <td>1760</td>\n",
       "    </tr>\n",
       "    <tr>\n",
       "      <th>190</th>\n",
       "      <td>get</td>\n",
       "      <td>1670</td>\n",
       "    </tr>\n",
       "  </tbody>\n",
       "</table>\n",
       "</div>"
      ],
      "text/plain": [
       "     mot  nombre\n",
       "340  not    5129\n",
       "194   go    2243\n",
       "68   but    2041\n",
       "113  day    1760\n",
       "190  get    1670"
      ]
     },
     "metadata": {},
     "output_type": "display_data"
    }
   ],
   "source": [
    "df_bow_2_s, vecteur_bow_2_s = df_bow(X_tweet_2['tweet_stem'], 50, 5000)"
   ]
  },
  {
   "cell_type": "markdown",
   "id": "61fe300b",
   "metadata": {},
   "source": [
    "sources : https://scikit-learn.org/stable/modules/generated/sklearn.feature_extraction.text.CountVectorizer.html\n",
    "        https://towardsdatascience.com/basics-of-countvectorizer-e26677900f9c"
   ]
  },
  {
   "cell_type": "markdown",
   "id": "0850f186",
   "metadata": {},
   "source": [
    "### TF-IDF"
   ]
  },
  {
   "cell_type": "markdown",
   "id": "7e5596d9",
   "metadata": {},
   "source": [
    "La méthode TF-IDF (Term Frequency-Inverse Document Frequency) repose sur le principe de la pondération. C'est une mesure statistique qui détermine l'importance d'un mot contenu dans un texte. Le poids augmente proportionnellement au nombre d'apparitions du mot dans le texte."
   ]
  },
  {
   "cell_type": "markdown",
   "id": "2153e39b",
   "metadata": {},
   "source": [
    "#### Création de la fonction pour les Bag of Words avec TF-IDF"
   ]
  },
  {
   "cell_type": "markdown",
   "id": "258c2664",
   "metadata": {},
   "source": [
    "#### Création des Bags of Words avec TF-IDF"
   ]
  },
  {
   "cell_type": "code",
   "execution_count": 40,
   "id": "3ab0c7cf",
   "metadata": {},
   "outputs": [
    {
     "data": {
      "text/html": [
       "<div>\n",
       "<style scoped>\n",
       "    .dataframe tbody tr th:only-of-type {\n",
       "        vertical-align: middle;\n",
       "    }\n",
       "\n",
       "    .dataframe tbody tr th {\n",
       "        vertical-align: top;\n",
       "    }\n",
       "\n",
       "    .dataframe thead th {\n",
       "        text-align: right;\n",
       "    }\n",
       "</style>\n",
       "<table border=\"1\" class=\"dataframe\">\n",
       "  <thead>\n",
       "    <tr style=\"text-align: right;\">\n",
       "      <th></th>\n",
       "      <th>able</th>\n",
       "      <th>absolutely</th>\n",
       "      <th>actually</th>\n",
       "      <th>add</th>\n",
       "      <th>afternoon</th>\n",
       "      <th>ago</th>\n",
       "      <th>agree</th>\n",
       "      <th>ah</th>\n",
       "      <th>ahh</th>\n",
       "      <th>album</th>\n",
       "      <th>...</th>\n",
       "      <th>yay</th>\n",
       "      <th>yea</th>\n",
       "      <th>yeah</th>\n",
       "      <th>year</th>\n",
       "      <th>yep</th>\n",
       "      <th>yes</th>\n",
       "      <th>yesterday</th>\n",
       "      <th>yet</th>\n",
       "      <th>young</th>\n",
       "      <th>youtube</th>\n",
       "    </tr>\n",
       "  </thead>\n",
       "  <tbody>\n",
       "    <tr>\n",
       "      <th>0</th>\n",
       "      <td>0.0</td>\n",
       "      <td>0.0</td>\n",
       "      <td>0.0</td>\n",
       "      <td>0.0</td>\n",
       "      <td>0.0</td>\n",
       "      <td>0.0</td>\n",
       "      <td>0.0</td>\n",
       "      <td>0.0</td>\n",
       "      <td>0.0</td>\n",
       "      <td>0.0</td>\n",
       "      <td>...</td>\n",
       "      <td>0.0</td>\n",
       "      <td>0.0</td>\n",
       "      <td>0.0</td>\n",
       "      <td>0.0</td>\n",
       "      <td>0.0</td>\n",
       "      <td>0.0</td>\n",
       "      <td>0.0</td>\n",
       "      <td>0.0</td>\n",
       "      <td>0.0</td>\n",
       "      <td>0.0</td>\n",
       "    </tr>\n",
       "    <tr>\n",
       "      <th>1</th>\n",
       "      <td>0.0</td>\n",
       "      <td>0.0</td>\n",
       "      <td>0.0</td>\n",
       "      <td>0.0</td>\n",
       "      <td>0.0</td>\n",
       "      <td>0.0</td>\n",
       "      <td>0.0</td>\n",
       "      <td>0.0</td>\n",
       "      <td>0.0</td>\n",
       "      <td>0.0</td>\n",
       "      <td>...</td>\n",
       "      <td>0.0</td>\n",
       "      <td>0.0</td>\n",
       "      <td>0.0</td>\n",
       "      <td>0.0</td>\n",
       "      <td>0.0</td>\n",
       "      <td>0.0</td>\n",
       "      <td>0.0</td>\n",
       "      <td>0.0</td>\n",
       "      <td>0.0</td>\n",
       "      <td>0.0</td>\n",
       "    </tr>\n",
       "    <tr>\n",
       "      <th>2</th>\n",
       "      <td>0.0</td>\n",
       "      <td>0.0</td>\n",
       "      <td>0.0</td>\n",
       "      <td>0.0</td>\n",
       "      <td>0.0</td>\n",
       "      <td>0.0</td>\n",
       "      <td>0.0</td>\n",
       "      <td>0.0</td>\n",
       "      <td>0.0</td>\n",
       "      <td>0.0</td>\n",
       "      <td>...</td>\n",
       "      <td>0.0</td>\n",
       "      <td>0.0</td>\n",
       "      <td>0.0</td>\n",
       "      <td>0.0</td>\n",
       "      <td>0.0</td>\n",
       "      <td>0.0</td>\n",
       "      <td>0.0</td>\n",
       "      <td>0.0</td>\n",
       "      <td>0.0</td>\n",
       "      <td>0.0</td>\n",
       "    </tr>\n",
       "    <tr>\n",
       "      <th>3</th>\n",
       "      <td>0.0</td>\n",
       "      <td>0.0</td>\n",
       "      <td>0.0</td>\n",
       "      <td>0.0</td>\n",
       "      <td>0.0</td>\n",
       "      <td>0.0</td>\n",
       "      <td>0.0</td>\n",
       "      <td>0.0</td>\n",
       "      <td>0.0</td>\n",
       "      <td>0.0</td>\n",
       "      <td>...</td>\n",
       "      <td>0.0</td>\n",
       "      <td>0.0</td>\n",
       "      <td>0.0</td>\n",
       "      <td>0.0</td>\n",
       "      <td>0.0</td>\n",
       "      <td>0.0</td>\n",
       "      <td>0.0</td>\n",
       "      <td>0.0</td>\n",
       "      <td>0.0</td>\n",
       "      <td>0.0</td>\n",
       "    </tr>\n",
       "    <tr>\n",
       "      <th>4</th>\n",
       "      <td>0.0</td>\n",
       "      <td>0.0</td>\n",
       "      <td>0.0</td>\n",
       "      <td>0.0</td>\n",
       "      <td>0.0</td>\n",
       "      <td>0.0</td>\n",
       "      <td>0.0</td>\n",
       "      <td>0.0</td>\n",
       "      <td>0.0</td>\n",
       "      <td>0.0</td>\n",
       "      <td>...</td>\n",
       "      <td>0.0</td>\n",
       "      <td>0.0</td>\n",
       "      <td>0.0</td>\n",
       "      <td>0.0</td>\n",
       "      <td>0.0</td>\n",
       "      <td>0.0</td>\n",
       "      <td>0.0</td>\n",
       "      <td>0.0</td>\n",
       "      <td>0.0</td>\n",
       "      <td>0.0</td>\n",
       "    </tr>\n",
       "  </tbody>\n",
       "</table>\n",
       "<p>5 rows × 587 columns</p>\n",
       "</div>"
      ],
      "text/plain": [
       "   able  absolutely  actually  add  afternoon  ago  agree   ah  ahh  album  \\\n",
       "0   0.0         0.0       0.0  0.0        0.0  0.0    0.0  0.0  0.0    0.0   \n",
       "1   0.0         0.0       0.0  0.0        0.0  0.0    0.0  0.0  0.0    0.0   \n",
       "2   0.0         0.0       0.0  0.0        0.0  0.0    0.0  0.0  0.0    0.0   \n",
       "3   0.0         0.0       0.0  0.0        0.0  0.0    0.0  0.0  0.0    0.0   \n",
       "4   0.0         0.0       0.0  0.0        0.0  0.0    0.0  0.0  0.0    0.0   \n",
       "\n",
       "   ...  yay  yea  yeah  year  yep  yes  yesterday  yet  young  youtube  \n",
       "0  ...  0.0  0.0   0.0   0.0  0.0  0.0        0.0  0.0    0.0      0.0  \n",
       "1  ...  0.0  0.0   0.0   0.0  0.0  0.0        0.0  0.0    0.0      0.0  \n",
       "2  ...  0.0  0.0   0.0   0.0  0.0  0.0        0.0  0.0    0.0      0.0  \n",
       "3  ...  0.0  0.0   0.0   0.0  0.0  0.0        0.0  0.0    0.0      0.0  \n",
       "4  ...  0.0  0.0   0.0   0.0  0.0  0.0        0.0  0.0    0.0      0.0  \n",
       "\n",
       "[5 rows x 587 columns]"
      ]
     },
     "metadata": {},
     "output_type": "display_data"
    },
    {
     "data": {
      "text/html": [
       "<div>\n",
       "<style scoped>\n",
       "    .dataframe tbody tr th:only-of-type {\n",
       "        vertical-align: middle;\n",
       "    }\n",
       "\n",
       "    .dataframe tbody tr th {\n",
       "        vertical-align: top;\n",
       "    }\n",
       "\n",
       "    .dataframe thead th {\n",
       "        text-align: right;\n",
       "    }\n",
       "</style>\n",
       "<table border=\"1\" class=\"dataframe\">\n",
       "  <thead>\n",
       "    <tr style=\"text-align: right;\">\n",
       "      <th></th>\n",
       "      <th>mot</th>\n",
       "      <th>nombre</th>\n",
       "    </tr>\n",
       "  </thead>\n",
       "  <tbody>\n",
       "    <tr>\n",
       "      <th>345</th>\n",
       "      <td>not</td>\n",
       "      <td>229.295943</td>\n",
       "    </tr>\n",
       "    <tr>\n",
       "      <th>192</th>\n",
       "      <td>get</td>\n",
       "      <td>160.133205</td>\n",
       "    </tr>\n",
       "    <tr>\n",
       "      <th>197</th>\n",
       "      <td>go</td>\n",
       "      <td>126.390089</td>\n",
       "    </tr>\n",
       "    <tr>\n",
       "      <th>70</th>\n",
       "      <td>but</td>\n",
       "      <td>109.105416</td>\n",
       "    </tr>\n",
       "    <tr>\n",
       "      <th>117</th>\n",
       "      <td>day</td>\n",
       "      <td>101.095515</td>\n",
       "    </tr>\n",
       "  </tbody>\n",
       "</table>\n",
       "</div>"
      ],
      "text/plain": [
       "     mot      nombre\n",
       "345  not  229.295943\n",
       "192  get  160.133205\n",
       "197   go  126.390089\n",
       "70   but  109.105416\n",
       "117  day  101.095515"
      ]
     },
     "metadata": {},
     "output_type": "display_data"
    }
   ],
   "source": [
    "df_tf_idf_1_l, vecteur_tf_idf_1_l = df_tf_idf(X_tweet_1['tweet_lemm'], 10,\n",
    "                                              1000)"
   ]
  },
  {
   "cell_type": "code",
   "execution_count": 41,
   "id": "3ac39c19",
   "metadata": {},
   "outputs": [
    {
     "data": {
      "text/html": [
       "<div>\n",
       "<style scoped>\n",
       "    .dataframe tbody tr th:only-of-type {\n",
       "        vertical-align: middle;\n",
       "    }\n",
       "\n",
       "    .dataframe tbody tr th {\n",
       "        vertical-align: top;\n",
       "    }\n",
       "\n",
       "    .dataframe thead th {\n",
       "        text-align: right;\n",
       "    }\n",
       "</style>\n",
       "<table border=\"1\" class=\"dataframe\">\n",
       "  <thead>\n",
       "    <tr style=\"text-align: right;\">\n",
       "      <th></th>\n",
       "      <th>able</th>\n",
       "      <th>account</th>\n",
       "      <th>actually</th>\n",
       "      <th>add</th>\n",
       "      <th>afternoon</th>\n",
       "      <th>ago</th>\n",
       "      <th>agree</th>\n",
       "      <th>ah</th>\n",
       "      <th>ahh</th>\n",
       "      <th>air</th>\n",
       "      <th>...</th>\n",
       "      <th>www</th>\n",
       "      <th>xx</th>\n",
       "      <th>ya</th>\n",
       "      <th>yay</th>\n",
       "      <th>yea</th>\n",
       "      <th>yeah</th>\n",
       "      <th>year</th>\n",
       "      <th>yes</th>\n",
       "      <th>yesterday</th>\n",
       "      <th>yet</th>\n",
       "    </tr>\n",
       "  </thead>\n",
       "  <tbody>\n",
       "    <tr>\n",
       "      <th>0</th>\n",
       "      <td>0.0</td>\n",
       "      <td>0.0</td>\n",
       "      <td>0.0</td>\n",
       "      <td>0.0</td>\n",
       "      <td>0.0</td>\n",
       "      <td>0.0</td>\n",
       "      <td>0.0</td>\n",
       "      <td>0.0</td>\n",
       "      <td>0.0</td>\n",
       "      <td>0.0</td>\n",
       "      <td>...</td>\n",
       "      <td>0.0</td>\n",
       "      <td>0.0</td>\n",
       "      <td>0.0</td>\n",
       "      <td>0.0</td>\n",
       "      <td>0.0</td>\n",
       "      <td>0.0</td>\n",
       "      <td>0.0</td>\n",
       "      <td>0.0</td>\n",
       "      <td>0.0</td>\n",
       "      <td>0.0</td>\n",
       "    </tr>\n",
       "    <tr>\n",
       "      <th>1</th>\n",
       "      <td>0.0</td>\n",
       "      <td>0.0</td>\n",
       "      <td>0.0</td>\n",
       "      <td>0.0</td>\n",
       "      <td>0.0</td>\n",
       "      <td>0.0</td>\n",
       "      <td>0.0</td>\n",
       "      <td>0.0</td>\n",
       "      <td>0.0</td>\n",
       "      <td>0.0</td>\n",
       "      <td>...</td>\n",
       "      <td>0.0</td>\n",
       "      <td>0.0</td>\n",
       "      <td>0.0</td>\n",
       "      <td>0.0</td>\n",
       "      <td>0.0</td>\n",
       "      <td>0.0</td>\n",
       "      <td>0.0</td>\n",
       "      <td>0.0</td>\n",
       "      <td>0.0</td>\n",
       "      <td>0.0</td>\n",
       "    </tr>\n",
       "    <tr>\n",
       "      <th>2</th>\n",
       "      <td>0.0</td>\n",
       "      <td>0.0</td>\n",
       "      <td>0.0</td>\n",
       "      <td>0.0</td>\n",
       "      <td>0.0</td>\n",
       "      <td>0.0</td>\n",
       "      <td>0.0</td>\n",
       "      <td>0.0</td>\n",
       "      <td>0.0</td>\n",
       "      <td>0.0</td>\n",
       "      <td>...</td>\n",
       "      <td>0.0</td>\n",
       "      <td>0.0</td>\n",
       "      <td>0.0</td>\n",
       "      <td>0.0</td>\n",
       "      <td>0.0</td>\n",
       "      <td>0.0</td>\n",
       "      <td>0.0</td>\n",
       "      <td>0.0</td>\n",
       "      <td>0.0</td>\n",
       "      <td>0.0</td>\n",
       "    </tr>\n",
       "    <tr>\n",
       "      <th>3</th>\n",
       "      <td>0.0</td>\n",
       "      <td>0.0</td>\n",
       "      <td>0.0</td>\n",
       "      <td>0.0</td>\n",
       "      <td>0.0</td>\n",
       "      <td>0.0</td>\n",
       "      <td>0.0</td>\n",
       "      <td>0.0</td>\n",
       "      <td>0.0</td>\n",
       "      <td>0.0</td>\n",
       "      <td>...</td>\n",
       "      <td>0.0</td>\n",
       "      <td>0.0</td>\n",
       "      <td>0.0</td>\n",
       "      <td>0.0</td>\n",
       "      <td>0.0</td>\n",
       "      <td>0.0</td>\n",
       "      <td>0.0</td>\n",
       "      <td>0.0</td>\n",
       "      <td>0.0</td>\n",
       "      <td>0.0</td>\n",
       "    </tr>\n",
       "    <tr>\n",
       "      <th>4</th>\n",
       "      <td>0.0</td>\n",
       "      <td>0.0</td>\n",
       "      <td>0.0</td>\n",
       "      <td>0.0</td>\n",
       "      <td>0.0</td>\n",
       "      <td>0.0</td>\n",
       "      <td>0.0</td>\n",
       "      <td>0.0</td>\n",
       "      <td>0.0</td>\n",
       "      <td>0.0</td>\n",
       "      <td>...</td>\n",
       "      <td>0.0</td>\n",
       "      <td>0.0</td>\n",
       "      <td>0.0</td>\n",
       "      <td>0.0</td>\n",
       "      <td>0.0</td>\n",
       "      <td>0.0</td>\n",
       "      <td>0.0</td>\n",
       "      <td>0.0</td>\n",
       "      <td>0.0</td>\n",
       "      <td>0.0</td>\n",
       "    </tr>\n",
       "  </tbody>\n",
       "</table>\n",
       "<p>5 rows × 560 columns</p>\n",
       "</div>"
      ],
      "text/plain": [
       "   able  account  actually  add  afternoon  ago  agree   ah  ahh  air  ...  \\\n",
       "0   0.0      0.0       0.0  0.0        0.0  0.0    0.0  0.0  0.0  0.0  ...   \n",
       "1   0.0      0.0       0.0  0.0        0.0  0.0    0.0  0.0  0.0  0.0  ...   \n",
       "2   0.0      0.0       0.0  0.0        0.0  0.0    0.0  0.0  0.0  0.0  ...   \n",
       "3   0.0      0.0       0.0  0.0        0.0  0.0    0.0  0.0  0.0  0.0  ...   \n",
       "4   0.0      0.0       0.0  0.0        0.0  0.0    0.0  0.0  0.0  0.0  ...   \n",
       "\n",
       "   www   xx   ya  yay  yea  yeah  year  yes  yesterday  yet  \n",
       "0  0.0  0.0  0.0  0.0  0.0   0.0   0.0  0.0        0.0  0.0  \n",
       "1  0.0  0.0  0.0  0.0  0.0   0.0   0.0  0.0        0.0  0.0  \n",
       "2  0.0  0.0  0.0  0.0  0.0   0.0   0.0  0.0        0.0  0.0  \n",
       "3  0.0  0.0  0.0  0.0  0.0   0.0   0.0  0.0        0.0  0.0  \n",
       "4  0.0  0.0  0.0  0.0  0.0   0.0   0.0  0.0        0.0  0.0  \n",
       "\n",
       "[5 rows x 560 columns]"
      ]
     },
     "metadata": {},
     "output_type": "display_data"
    },
    {
     "data": {
      "text/html": [
       "<div>\n",
       "<style scoped>\n",
       "    .dataframe tbody tr th:only-of-type {\n",
       "        vertical-align: middle;\n",
       "    }\n",
       "\n",
       "    .dataframe tbody tr th {\n",
       "        vertical-align: top;\n",
       "    }\n",
       "\n",
       "    .dataframe thead th {\n",
       "        text-align: right;\n",
       "    }\n",
       "</style>\n",
       "<table border=\"1\" class=\"dataframe\">\n",
       "  <thead>\n",
       "    <tr style=\"text-align: right;\">\n",
       "      <th></th>\n",
       "      <th>mot</th>\n",
       "      <th>nombre</th>\n",
       "    </tr>\n",
       "  </thead>\n",
       "  <tbody>\n",
       "    <tr>\n",
       "      <th>328</th>\n",
       "      <td>not</td>\n",
       "      <td>1163.657494</td>\n",
       "    </tr>\n",
       "    <tr>\n",
       "      <th>184</th>\n",
       "      <td>go</td>\n",
       "      <td>750.712604</td>\n",
       "    </tr>\n",
       "    <tr>\n",
       "      <th>179</th>\n",
       "      <td>get</td>\n",
       "      <td>724.194374</td>\n",
       "    </tr>\n",
       "    <tr>\n",
       "      <th>65</th>\n",
       "      <td>but</td>\n",
       "      <td>548.182235</td>\n",
       "    </tr>\n",
       "    <tr>\n",
       "      <th>109</th>\n",
       "      <td>day</td>\n",
       "      <td>541.989999</td>\n",
       "    </tr>\n",
       "  </tbody>\n",
       "</table>\n",
       "</div>"
      ],
      "text/plain": [
       "     mot       nombre\n",
       "328  not  1163.657494\n",
       "184   go   750.712604\n",
       "179  get   724.194374\n",
       "65   but   548.182235\n",
       "109  day   541.989999"
      ]
     },
     "metadata": {},
     "output_type": "display_data"
    }
   ],
   "source": [
    "df_tf_idf_2_l, vecteur_tf_idf_2_l = df_tf_idf(X_tweet_2['tweet_lemm'], 50,\n",
    "                                              5000)"
   ]
  },
  {
   "cell_type": "code",
   "execution_count": 42,
   "id": "616fa8e1",
   "metadata": {},
   "outputs": [
    {
     "data": {
      "text/html": [
       "<div>\n",
       "<style scoped>\n",
       "    .dataframe tbody tr th:only-of-type {\n",
       "        vertical-align: middle;\n",
       "    }\n",
       "\n",
       "    .dataframe tbody tr th {\n",
       "        vertical-align: top;\n",
       "    }\n",
       "\n",
       "    .dataframe thead th {\n",
       "        text-align: right;\n",
       "    }\n",
       "</style>\n",
       "<table border=\"1\" class=\"dataframe\">\n",
       "  <thead>\n",
       "    <tr style=\"text-align: right;\">\n",
       "      <th></th>\n",
       "      <th>abl</th>\n",
       "      <th>absolut</th>\n",
       "      <th>actual</th>\n",
       "      <th>ad</th>\n",
       "      <th>afternoon</th>\n",
       "      <th>ago</th>\n",
       "      <th>agre</th>\n",
       "      <th>ah</th>\n",
       "      <th>ahh</th>\n",
       "      <th>album</th>\n",
       "      <th>...</th>\n",
       "      <th>ya</th>\n",
       "      <th>yay</th>\n",
       "      <th>ye</th>\n",
       "      <th>yea</th>\n",
       "      <th>yeah</th>\n",
       "      <th>year</th>\n",
       "      <th>yep</th>\n",
       "      <th>yesterday</th>\n",
       "      <th>yet</th>\n",
       "      <th>youtub</th>\n",
       "    </tr>\n",
       "  </thead>\n",
       "  <tbody>\n",
       "    <tr>\n",
       "      <th>0</th>\n",
       "      <td>0.0</td>\n",
       "      <td>0.0</td>\n",
       "      <td>0.0</td>\n",
       "      <td>0.0</td>\n",
       "      <td>0.0</td>\n",
       "      <td>0.0</td>\n",
       "      <td>0.0</td>\n",
       "      <td>0.0</td>\n",
       "      <td>0.0</td>\n",
       "      <td>0.0</td>\n",
       "      <td>...</td>\n",
       "      <td>0.0</td>\n",
       "      <td>0.0</td>\n",
       "      <td>0.0</td>\n",
       "      <td>0.0</td>\n",
       "      <td>0.0</td>\n",
       "      <td>0.0</td>\n",
       "      <td>0.0</td>\n",
       "      <td>0.0</td>\n",
       "      <td>0.0</td>\n",
       "      <td>0.0</td>\n",
       "    </tr>\n",
       "    <tr>\n",
       "      <th>1</th>\n",
       "      <td>0.0</td>\n",
       "      <td>0.0</td>\n",
       "      <td>0.0</td>\n",
       "      <td>0.0</td>\n",
       "      <td>0.0</td>\n",
       "      <td>0.0</td>\n",
       "      <td>0.0</td>\n",
       "      <td>0.0</td>\n",
       "      <td>0.0</td>\n",
       "      <td>0.0</td>\n",
       "      <td>...</td>\n",
       "      <td>0.0</td>\n",
       "      <td>0.0</td>\n",
       "      <td>0.0</td>\n",
       "      <td>0.0</td>\n",
       "      <td>0.0</td>\n",
       "      <td>0.0</td>\n",
       "      <td>0.0</td>\n",
       "      <td>0.0</td>\n",
       "      <td>0.0</td>\n",
       "      <td>0.0</td>\n",
       "    </tr>\n",
       "    <tr>\n",
       "      <th>2</th>\n",
       "      <td>0.0</td>\n",
       "      <td>0.0</td>\n",
       "      <td>0.0</td>\n",
       "      <td>0.0</td>\n",
       "      <td>0.0</td>\n",
       "      <td>0.0</td>\n",
       "      <td>0.0</td>\n",
       "      <td>0.0</td>\n",
       "      <td>0.0</td>\n",
       "      <td>0.0</td>\n",
       "      <td>...</td>\n",
       "      <td>0.0</td>\n",
       "      <td>0.0</td>\n",
       "      <td>0.0</td>\n",
       "      <td>0.0</td>\n",
       "      <td>0.0</td>\n",
       "      <td>0.0</td>\n",
       "      <td>0.0</td>\n",
       "      <td>0.0</td>\n",
       "      <td>0.0</td>\n",
       "      <td>0.0</td>\n",
       "    </tr>\n",
       "    <tr>\n",
       "      <th>3</th>\n",
       "      <td>0.0</td>\n",
       "      <td>0.0</td>\n",
       "      <td>0.0</td>\n",
       "      <td>0.0</td>\n",
       "      <td>0.0</td>\n",
       "      <td>0.0</td>\n",
       "      <td>0.0</td>\n",
       "      <td>0.0</td>\n",
       "      <td>0.0</td>\n",
       "      <td>0.0</td>\n",
       "      <td>...</td>\n",
       "      <td>0.0</td>\n",
       "      <td>0.0</td>\n",
       "      <td>0.0</td>\n",
       "      <td>0.0</td>\n",
       "      <td>0.0</td>\n",
       "      <td>0.0</td>\n",
       "      <td>0.0</td>\n",
       "      <td>0.0</td>\n",
       "      <td>0.0</td>\n",
       "      <td>0.0</td>\n",
       "    </tr>\n",
       "    <tr>\n",
       "      <th>4</th>\n",
       "      <td>0.0</td>\n",
       "      <td>0.0</td>\n",
       "      <td>0.0</td>\n",
       "      <td>0.0</td>\n",
       "      <td>0.0</td>\n",
       "      <td>0.0</td>\n",
       "      <td>0.0</td>\n",
       "      <td>0.0</td>\n",
       "      <td>0.0</td>\n",
       "      <td>0.0</td>\n",
       "      <td>...</td>\n",
       "      <td>0.0</td>\n",
       "      <td>0.0</td>\n",
       "      <td>0.0</td>\n",
       "      <td>0.0</td>\n",
       "      <td>0.0</td>\n",
       "      <td>0.0</td>\n",
       "      <td>0.0</td>\n",
       "      <td>0.0</td>\n",
       "      <td>0.0</td>\n",
       "      <td>0.0</td>\n",
       "    </tr>\n",
       "  </tbody>\n",
       "</table>\n",
       "<p>5 rows × 605 columns</p>\n",
       "</div>"
      ],
      "text/plain": [
       "   abl  absolut  actual   ad  afternoon  ago  agre   ah  ahh  album  ...   ya  \\\n",
       "0  0.0      0.0     0.0  0.0        0.0  0.0   0.0  0.0  0.0    0.0  ...  0.0   \n",
       "1  0.0      0.0     0.0  0.0        0.0  0.0   0.0  0.0  0.0    0.0  ...  0.0   \n",
       "2  0.0      0.0     0.0  0.0        0.0  0.0   0.0  0.0  0.0    0.0  ...  0.0   \n",
       "3  0.0      0.0     0.0  0.0        0.0  0.0   0.0  0.0  0.0    0.0  ...  0.0   \n",
       "4  0.0      0.0     0.0  0.0        0.0  0.0   0.0  0.0  0.0    0.0  ...  0.0   \n",
       "\n",
       "   yay   ye  yea  yeah  year  yep  yesterday  yet  youtub  \n",
       "0  0.0  0.0  0.0   0.0   0.0  0.0        0.0  0.0     0.0  \n",
       "1  0.0  0.0  0.0   0.0   0.0  0.0        0.0  0.0     0.0  \n",
       "2  0.0  0.0  0.0   0.0   0.0  0.0        0.0  0.0     0.0  \n",
       "3  0.0  0.0  0.0   0.0   0.0  0.0        0.0  0.0     0.0  \n",
       "4  0.0  0.0  0.0   0.0   0.0  0.0        0.0  0.0     0.0  \n",
       "\n",
       "[5 rows x 605 columns]"
      ]
     },
     "metadata": {},
     "output_type": "display_data"
    },
    {
     "data": {
      "text/html": [
       "<div>\n",
       "<style scoped>\n",
       "    .dataframe tbody tr th:only-of-type {\n",
       "        vertical-align: middle;\n",
       "    }\n",
       "\n",
       "    .dataframe tbody tr th {\n",
       "        vertical-align: top;\n",
       "    }\n",
       "\n",
       "    .dataframe thead th {\n",
       "        text-align: right;\n",
       "    }\n",
       "</style>\n",
       "<table border=\"1\" class=\"dataframe\">\n",
       "  <thead>\n",
       "    <tr style=\"text-align: right;\">\n",
       "      <th></th>\n",
       "      <th>mot</th>\n",
       "      <th>nombre</th>\n",
       "    </tr>\n",
       "  </thead>\n",
       "  <tbody>\n",
       "    <tr>\n",
       "      <th>359</th>\n",
       "      <td>not</td>\n",
       "      <td>228.526366</td>\n",
       "    </tr>\n",
       "    <tr>\n",
       "      <th>206</th>\n",
       "      <td>go</td>\n",
       "      <td>109.717763</td>\n",
       "    </tr>\n",
       "    <tr>\n",
       "      <th>74</th>\n",
       "      <td>but</td>\n",
       "      <td>107.720016</td>\n",
       "    </tr>\n",
       "    <tr>\n",
       "      <th>202</th>\n",
       "      <td>get</td>\n",
       "      <td>102.529654</td>\n",
       "    </tr>\n",
       "    <tr>\n",
       "      <th>121</th>\n",
       "      <td>day</td>\n",
       "      <td>99.115910</td>\n",
       "    </tr>\n",
       "  </tbody>\n",
       "</table>\n",
       "</div>"
      ],
      "text/plain": [
       "     mot      nombre\n",
       "359  not  228.526366\n",
       "206   go  109.717763\n",
       "74   but  107.720016\n",
       "202  get  102.529654\n",
       "121  day   99.115910"
      ]
     },
     "metadata": {},
     "output_type": "display_data"
    }
   ],
   "source": [
    "df_tf_idf_1_s, vecteur_tf_idf_1_s = df_tf_idf(X_tweet_1['tweet_stem'], 10,\n",
    "                                              1000)"
   ]
  },
  {
   "cell_type": "code",
   "execution_count": 43,
   "id": "3f03ebff",
   "metadata": {
    "scrolled": false
   },
   "outputs": [
    {
     "data": {
      "text/html": [
       "<div>\n",
       "<style scoped>\n",
       "    .dataframe tbody tr th:only-of-type {\n",
       "        vertical-align: middle;\n",
       "    }\n",
       "\n",
       "    .dataframe tbody tr th {\n",
       "        vertical-align: top;\n",
       "    }\n",
       "\n",
       "    .dataframe thead th {\n",
       "        text-align: right;\n",
       "    }\n",
       "</style>\n",
       "<table border=\"1\" class=\"dataframe\">\n",
       "  <thead>\n",
       "    <tr style=\"text-align: right;\">\n",
       "      <th></th>\n",
       "      <th>abl</th>\n",
       "      <th>account</th>\n",
       "      <th>actual</th>\n",
       "      <th>add</th>\n",
       "      <th>afternoon</th>\n",
       "      <th>ago</th>\n",
       "      <th>agre</th>\n",
       "      <th>ah</th>\n",
       "      <th>ahh</th>\n",
       "      <th>air</th>\n",
       "      <th>...</th>\n",
       "      <th>www</th>\n",
       "      <th>xx</th>\n",
       "      <th>ya</th>\n",
       "      <th>yay</th>\n",
       "      <th>ye</th>\n",
       "      <th>yea</th>\n",
       "      <th>yeah</th>\n",
       "      <th>year</th>\n",
       "      <th>yesterday</th>\n",
       "      <th>yet</th>\n",
       "    </tr>\n",
       "  </thead>\n",
       "  <tbody>\n",
       "    <tr>\n",
       "      <th>0</th>\n",
       "      <td>0.0</td>\n",
       "      <td>0.0</td>\n",
       "      <td>0.0</td>\n",
       "      <td>0.0</td>\n",
       "      <td>0.0</td>\n",
       "      <td>0.0</td>\n",
       "      <td>0.0</td>\n",
       "      <td>0.0</td>\n",
       "      <td>0.0</td>\n",
       "      <td>0.0</td>\n",
       "      <td>...</td>\n",
       "      <td>0.0</td>\n",
       "      <td>0.0</td>\n",
       "      <td>0.0</td>\n",
       "      <td>0.0</td>\n",
       "      <td>0.0</td>\n",
       "      <td>0.0</td>\n",
       "      <td>0.0</td>\n",
       "      <td>0.0</td>\n",
       "      <td>0.0</td>\n",
       "      <td>0.0</td>\n",
       "    </tr>\n",
       "    <tr>\n",
       "      <th>1</th>\n",
       "      <td>0.0</td>\n",
       "      <td>0.0</td>\n",
       "      <td>0.0</td>\n",
       "      <td>0.0</td>\n",
       "      <td>0.0</td>\n",
       "      <td>0.0</td>\n",
       "      <td>0.0</td>\n",
       "      <td>0.0</td>\n",
       "      <td>0.0</td>\n",
       "      <td>0.0</td>\n",
       "      <td>...</td>\n",
       "      <td>0.0</td>\n",
       "      <td>0.0</td>\n",
       "      <td>0.0</td>\n",
       "      <td>0.0</td>\n",
       "      <td>0.0</td>\n",
       "      <td>0.0</td>\n",
       "      <td>0.0</td>\n",
       "      <td>0.0</td>\n",
       "      <td>0.0</td>\n",
       "      <td>0.0</td>\n",
       "    </tr>\n",
       "    <tr>\n",
       "      <th>2</th>\n",
       "      <td>0.0</td>\n",
       "      <td>0.0</td>\n",
       "      <td>0.0</td>\n",
       "      <td>0.0</td>\n",
       "      <td>0.0</td>\n",
       "      <td>0.0</td>\n",
       "      <td>0.0</td>\n",
       "      <td>0.0</td>\n",
       "      <td>0.0</td>\n",
       "      <td>0.0</td>\n",
       "      <td>...</td>\n",
       "      <td>0.0</td>\n",
       "      <td>0.0</td>\n",
       "      <td>0.0</td>\n",
       "      <td>0.0</td>\n",
       "      <td>0.0</td>\n",
       "      <td>0.0</td>\n",
       "      <td>0.0</td>\n",
       "      <td>0.0</td>\n",
       "      <td>0.0</td>\n",
       "      <td>0.0</td>\n",
       "    </tr>\n",
       "    <tr>\n",
       "      <th>3</th>\n",
       "      <td>0.0</td>\n",
       "      <td>0.0</td>\n",
       "      <td>0.0</td>\n",
       "      <td>0.0</td>\n",
       "      <td>0.0</td>\n",
       "      <td>0.0</td>\n",
       "      <td>0.0</td>\n",
       "      <td>0.0</td>\n",
       "      <td>0.0</td>\n",
       "      <td>0.0</td>\n",
       "      <td>...</td>\n",
       "      <td>0.0</td>\n",
       "      <td>0.0</td>\n",
       "      <td>0.0</td>\n",
       "      <td>0.0</td>\n",
       "      <td>0.0</td>\n",
       "      <td>0.0</td>\n",
       "      <td>0.0</td>\n",
       "      <td>0.0</td>\n",
       "      <td>0.0</td>\n",
       "      <td>0.0</td>\n",
       "    </tr>\n",
       "    <tr>\n",
       "      <th>4</th>\n",
       "      <td>0.0</td>\n",
       "      <td>0.0</td>\n",
       "      <td>0.0</td>\n",
       "      <td>0.0</td>\n",
       "      <td>0.0</td>\n",
       "      <td>0.0</td>\n",
       "      <td>0.0</td>\n",
       "      <td>0.0</td>\n",
       "      <td>0.0</td>\n",
       "      <td>0.0</td>\n",
       "      <td>...</td>\n",
       "      <td>0.0</td>\n",
       "      <td>0.0</td>\n",
       "      <td>0.0</td>\n",
       "      <td>0.0</td>\n",
       "      <td>0.0</td>\n",
       "      <td>0.0</td>\n",
       "      <td>0.0</td>\n",
       "      <td>0.0</td>\n",
       "      <td>0.0</td>\n",
       "      <td>0.0</td>\n",
       "    </tr>\n",
       "  </tbody>\n",
       "</table>\n",
       "<p>5 rows × 579 columns</p>\n",
       "</div>"
      ],
      "text/plain": [
       "   abl  account  actual  add  afternoon  ago  agre   ah  ahh  air  ...  www  \\\n",
       "0  0.0      0.0     0.0  0.0        0.0  0.0   0.0  0.0  0.0  0.0  ...  0.0   \n",
       "1  0.0      0.0     0.0  0.0        0.0  0.0   0.0  0.0  0.0  0.0  ...  0.0   \n",
       "2  0.0      0.0     0.0  0.0        0.0  0.0   0.0  0.0  0.0  0.0  ...  0.0   \n",
       "3  0.0      0.0     0.0  0.0        0.0  0.0   0.0  0.0  0.0  0.0  ...  0.0   \n",
       "4  0.0      0.0     0.0  0.0        0.0  0.0   0.0  0.0  0.0  0.0  ...  0.0   \n",
       "\n",
       "    xx   ya  yay   ye  yea  yeah  year  yesterday  yet  \n",
       "0  0.0  0.0  0.0  0.0  0.0   0.0   0.0        0.0  0.0  \n",
       "1  0.0  0.0  0.0  0.0  0.0   0.0   0.0        0.0  0.0  \n",
       "2  0.0  0.0  0.0  0.0  0.0   0.0   0.0        0.0  0.0  \n",
       "3  0.0  0.0  0.0  0.0  0.0   0.0   0.0        0.0  0.0  \n",
       "4  0.0  0.0  0.0  0.0  0.0   0.0   0.0        0.0  0.0  \n",
       "\n",
       "[5 rows x 579 columns]"
      ]
     },
     "metadata": {},
     "output_type": "display_data"
    },
    {
     "data": {
      "text/html": [
       "<div>\n",
       "<style scoped>\n",
       "    .dataframe tbody tr th:only-of-type {\n",
       "        vertical-align: middle;\n",
       "    }\n",
       "\n",
       "    .dataframe tbody tr th {\n",
       "        vertical-align: top;\n",
       "    }\n",
       "\n",
       "    .dataframe thead th {\n",
       "        text-align: right;\n",
       "    }\n",
       "</style>\n",
       "<table border=\"1\" class=\"dataframe\">\n",
       "  <thead>\n",
       "    <tr style=\"text-align: right;\">\n",
       "      <th></th>\n",
       "      <th>mot</th>\n",
       "      <th>nombre</th>\n",
       "    </tr>\n",
       "  </thead>\n",
       "  <tbody>\n",
       "    <tr>\n",
       "      <th>340</th>\n",
       "      <td>not</td>\n",
       "      <td>1161.927833</td>\n",
       "    </tr>\n",
       "    <tr>\n",
       "      <th>194</th>\n",
       "      <td>go</td>\n",
       "      <td>656.534723</td>\n",
       "    </tr>\n",
       "    <tr>\n",
       "      <th>68</th>\n",
       "      <td>but</td>\n",
       "      <td>539.642224</td>\n",
       "    </tr>\n",
       "    <tr>\n",
       "      <th>113</th>\n",
       "      <td>day</td>\n",
       "      <td>534.619485</td>\n",
       "    </tr>\n",
       "    <tr>\n",
       "      <th>190</th>\n",
       "      <td>get</td>\n",
       "      <td>496.125597</td>\n",
       "    </tr>\n",
       "  </tbody>\n",
       "</table>\n",
       "</div>"
      ],
      "text/plain": [
       "     mot       nombre\n",
       "340  not  1161.927833\n",
       "194   go   656.534723\n",
       "68   but   539.642224\n",
       "113  day   534.619485\n",
       "190  get   496.125597"
      ]
     },
     "metadata": {},
     "output_type": "display_data"
    }
   ],
   "source": [
    "df_tf_idf_2_s, vecteur_tf_idf_2_s = df_tf_idf(X_tweet_2['tweet_stem'], 50,\n",
    "                                              5000)"
   ]
  },
  {
   "cell_type": "code",
   "execution_count": 44,
   "id": "c02a1b04",
   "metadata": {},
   "outputs": [],
   "source": [
    "df_1 = df_tf_idf_1_l.copy(deep=True)\n",
    "df_2 = df_tf_idf_2_l.copy(deep=True)\n",
    "df_1['target'] = X_tweet_1['target']\n",
    "df_2['target'] = X_tweet_2['target']\n",
    "df_1.to_csv(chemin + \"df_1.csv\", index=False)\n",
    "df_2.to_csv(chemin + \"df_2.csv\", index=False)"
   ]
  },
  {
   "cell_type": "markdown",
   "id": "287a2441",
   "metadata": {},
   "source": [
    "sources : https://datascientest.com/tf-idf-intelligence-artificielle\n",
    "        https://scikit-learn.org/stable/modules/generated/sklearn.feature_extraction.text.TfidfVectorizer.html"
   ]
  },
  {
   "cell_type": "markdown",
   "id": "a9bb96b4",
   "metadata": {},
   "source": [
    "## Réduction de dimensions et visualisation de données de grande dimension"
   ]
  },
  {
   "cell_type": "markdown",
   "id": "beabfb5f",
   "metadata": {},
   "source": [
    "### L'analyse en composantes principales"
   ]
  },
  {
   "cell_type": "markdown",
   "id": "85add98f",
   "metadata": {},
   "source": [
    "L'analyse en composantes principales permet de réduire le nombre de variables qui décrivent une base de données. L'algorithme permet de déterminer le nombre de variables à garder pour le pourcentage de niveau de variance que l'on souhaite conserver. La PCA permet de construire de nouvelles variables (les composantes principales d'intertie, notées F) qui sont des combinaisons linéaires des variables initiales. Ces nouvelles variables sont corrélées le moins possible entre elles."
   ]
  },
  {
   "cell_type": "code",
   "execution_count": 45,
   "id": "6743347b",
   "metadata": {},
   "outputs": [
    {
     "name": "stdout",
     "output_type": "stream",
     "text": [
      "Dimensions des features des photos avant l'ACP : (5000, 587)\n",
      "Dimensions des features des photos après l'ACP : (5000, 303)\n",
      "Wall time: 392 ms\n"
     ]
    }
   ],
   "source": [
    "%%time\n",
    "print(\"Dimensions des features des photos avant l'ACP :\", df_tf_idf_1_l.shape)\n",
    "\n",
    "pca = PCA(n_components=0.80)  #pour garder 80% de la variance\n",
    "df_tf_pca_1_l = pca.fit_transform(df_tf_idf_1_l)\n",
    "print(\"Dimensions des features des photos après l'ACP :\", df_tf_pca_1_l.shape)"
   ]
  },
  {
   "cell_type": "markdown",
   "id": "58924115",
   "metadata": {},
   "source": [
    "Cette méthode va permettre une meilleure séparation des données via le t-SNE et en diminue le temps de calcul."
   ]
  },
  {
   "cell_type": "markdown",
   "id": "cbd51104",
   "metadata": {},
   "source": [
    "### Réduction de dimension par t-SNE"
   ]
  },
  {
   "cell_type": "markdown",
   "id": "437657d7",
   "metadata": {},
   "source": [
    "La réduction de dimension en 2 composantes t-SNE permet l'affichage en 2D des images sur un répère ayant deux composantes principales en guise d'axes. Son principe repose sur la création d'une distribution de probabilité qui représente les similarités entre des données proches dans un espace de grande dimension et dans un espace de plus petite dimension. Plus des données sont proches dans l'espace de départ, plus la probabilité qu'elles soient proches dans l'espace d'arrivée est grande."
   ]
  },
  {
   "cell_type": "code",
   "execution_count": 46,
   "id": "dc705e05",
   "metadata": {},
   "outputs": [
    {
     "name": "stdout",
     "output_type": "stream",
     "text": [
      "(5000, 2)\n",
      "Wall time: 26.7 s\n"
     ]
    }
   ],
   "source": [
    "%%time\n",
    "tsne = TSNE(n_components=2, init='random', learning_rate='auto')\n",
    "X_tsne_1_l = tsne.fit_transform(df_tf_pca_1_l)\n",
    "\n",
    "df_tsne_1_l = pd.DataFrame(X_tsne_1_l[:, 0:2],\n",
    "                           columns=['composante tsne 1', 'composante tsne 2'])\n",
    "print(df_tsne_1_l.shape)"
   ]
  },
  {
   "cell_type": "code",
   "execution_count": 47,
   "id": "930f5894",
   "metadata": {
    "scrolled": true
   },
   "outputs": [
    {
     "data": {
      "image/png": "[encoded data removed]",
      "text/plain": [
       "<Figure size 576x360 with 1 Axes>"
      ]
     },
     "metadata": {
      "needs_background": "light"
     },
     "output_type": "display_data"
    }
   ],
   "source": [
    "plt.figure(figsize=(8, 5))\n",
    "sns.scatterplot(x=\"composante tsne 1\",\n",
    "                y=\"composante tsne 2\",\n",
    "                data=df_tsne_1_l,\n",
    "                alpha=1)\n",
    "\n",
    "plt.title('TSNE des n-grammes', fontsize=20, pad=20, fontweight='bold')\n",
    "plt.xlabel('axe t-SNE 1', fontsize=15, fontweight='bold')\n",
    "plt.ylabel('axe t-SNE 2', fontsize=15, fontweight='bold')\n",
    "\n",
    "plt.show()"
   ]
  },
  {
   "cell_type": "markdown",
   "id": "99631a62",
   "metadata": {},
   "source": [
    "## Naive Bayes Sklearn"
   ]
  },
  {
   "cell_type": "markdown",
   "id": "878b0497",
   "metadata": {},
   "source": [
    "### Définition de la matrice de confusion et de la métrique d'intérêt"
   ]
  },
  {
   "cell_type": "markdown",
   "id": "e7715238",
   "metadata": {},
   "source": [
    "La matrice de confusion donne une idée de la performance d'un modèle. Il s'agit d'une matrice qui reporte : - les vrais positifs (cible = 1 ou prédiction = 1) - les faux négatifs (cible = 1 ou prédiction = 0) - les vrais négatifs (cible = 0 ou prédiction = 0) - les faux positifs (cible = 0 ou prédiction = 1) Elle s'obtient grâce à la fonction confusion_matrix."
   ]
  },
  {
   "cell_type": "markdown",
   "id": "9afd8500",
   "metadata": {},
   "source": [
    "Les algorithmes d'apprentissage sont évalués grâce à des outils statistiques. Ces outils donnent un score à l'algorithme suivant la façon dont l'utilisateur juge la performance de l'apprentissage."
   ]
  },
  {
   "cell_type": "markdown",
   "id": "8c61aae0",
   "metadata": {},
   "source": [
    "La précision évalue la capacité du modèle à ne pas classifier une cible initialement négative en cible positive. Il se calcule en faisant le rapport entre le nombre de cible positive correctement prédite (tp) et la somme des vrais positifs et des faux positifs (tp + fp). \n",
    "\n",
    "L'exactitude est la capacité du modèle à classer l'événement correctement. Il se calcule en divisant le nombre de vrais et négatifs par le nombre total de prédictions (Exactitude = (tp + tn) / (tp + tn+ fp + fn)). Dans notre étude, nous regarderons avec attention ces deux métriques et nous ferons attention aussi à comparer les temps de calculs pour les différents modèles."
   ]
  },
  {
   "cell_type": "markdown",
   "id": "b4250e43",
   "metadata": {},
   "source": [
    "### Optimisation des hyperparamètres"
   ]
  },
  {
   "cell_type": "markdown",
   "id": "329e99ee",
   "metadata": {},
   "source": [
    "Comme énoncé plus haut, le classifieur naive Bayes s'appuie sur le théorème de Bayes. Ce théorème est basé sur les probabilités conditionnelles. Les probabilités conditionnelles sont celles qui donnent la probabilité qu’un événement se produise sachant qu’un autre événement s’est déjà produit. Comme le théorème s'applique sur un grand nombre de variables, le calcul devient vite très complexe. Pour le simplifier, le modèle fait l'hypothèse (hypothèse forte) que les variables sont indépendantes les unes des autres (d'où le terme \"naive\").\n",
    "\n",
    "Dans notre cas, le modèle Naïve Bayes se construit à partir des fréquences d’occurrence des mots dans les tweets pour en prédire le sentiment.\n",
    "\n",
    "L'hyperparamètre alpha implique que le modèle utilise un lissage laplacien (alpha = 1) ou non (alpha = 0)."
   ]
  },
  {
   "cell_type": "code",
   "execution_count": 50,
   "id": "4fd441fa",
   "metadata": {},
   "outputs": [
    {
     "name": "stdout",
     "output_type": "stream",
     "text": [
      "Le meilleur score est: 0.73 \n",
      "avec les paramètres suivant : {'alpha': 1}\n"
     ]
    }
   ],
   "source": [
    "NB_S_grid(df_bow_1_l, X_train_1, X_test_1)"
   ]
  },
  {
   "cell_type": "markdown",
   "id": "6ad47af2",
   "metadata": {},
   "source": [
    "### Etablissement du modèle"
   ]
  },
  {
   "cell_type": "markdown",
   "id": "877079e0",
   "metadata": {},
   "source": [
    "### Naive Bayes avec features avec BoW simple"
   ]
  },
  {
   "cell_type": "code",
   "execution_count": 52,
   "id": "7ddf379b",
   "metadata": {},
   "outputs": [],
   "source": [
    "modeles.append('Classifieur Naive Bayes (Sklearn)')\n",
    "BdD = []\n",
    "temps_NB_S = []\n",
    "accuracy_NB_S = []\n",
    "precision_NB_S = []"
   ]
  },
  {
   "cell_type": "code",
   "execution_count": 53,
   "id": "15249b3e",
   "metadata": {},
   "outputs": [
    {
     "name": "stdout",
     "output_type": "stream",
     "text": [
      "accuracy score : 0.73\n",
      "              precision    recall  f1-score   support\n",
      "\n",
      "           0       0.71      0.77      0.74       500\n",
      "           1       0.75      0.68      0.71       500\n",
      "\n",
      "    accuracy                           0.73      1000\n",
      "   macro avg       0.73      0.73      0.73      1000\n",
      "weighted avg       0.73      0.73      0.73      1000\n",
      "\n",
      "Matrice de confusion\n"
     ]
    },
    {
     "data": {
      "image/png": "[encoded data removed]",
      "text/plain": [
       "<Figure size 576x288 with 1 Axes>"
      ]
     },
     "metadata": {
      "needs_background": "light"
     },
     "output_type": "display_data"
    }
   ],
   "source": [
    "BdD.append('Petit - Lemmatisation - BoW')\n",
    "precision, accuracy, t = NB_S(df_bow_1_l, X_train_1, X_test_1)\n",
    "temps_NB_S.append(t)\n",
    "accuracy_NB_S.append(accuracy)\n",
    "precision_NB_S.append(precision)"
   ]
  },
  {
   "cell_type": "code",
   "execution_count": 54,
   "id": "82fdfe59",
   "metadata": {},
   "outputs": [
    {
     "name": "stdout",
     "output_type": "stream",
     "text": [
      "accuracy score : 0.73\n",
      "              precision    recall  f1-score   support\n",
      "\n",
      "           0       0.71      0.77      0.74       500\n",
      "           1       0.75      0.69      0.71       500\n",
      "\n",
      "    accuracy                           0.73      1000\n",
      "   macro avg       0.73      0.73      0.73      1000\n",
      "weighted avg       0.73      0.73      0.73      1000\n",
      "\n",
      "Matrice de confusion\n"
     ]
    },
    {
     "data": {
      "image/png": "[encoded data removed]",
      "text/plain": [
       "<Figure size 576x288 with 1 Axes>"
      ]
     },
     "metadata": {
      "needs_background": "light"
     },
     "output_type": "display_data"
    }
   ],
   "source": [
    "BdD.append('Petit - Racinisation - BoW')\n",
    "precision, accuracy, t = NB_S(df_bow_1_s, X_train_1, X_test_1)\n",
    "temps_NB_S.append(t)\n",
    "accuracy_NB_S.append(accuracy)\n",
    "precision_NB_S.append(precision)"
   ]
  },
  {
   "cell_type": "code",
   "execution_count": 55,
   "id": "87e9f9a0",
   "metadata": {},
   "outputs": [
    {
     "name": "stdout",
     "output_type": "stream",
     "text": [
      "accuracy score : 0.74\n",
      "              precision    recall  f1-score   support\n",
      "\n",
      "           0       0.74      0.73      0.74      2526\n",
      "           1       0.73      0.74      0.74      2470\n",
      "\n",
      "    accuracy                           0.74      4996\n",
      "   macro avg       0.74      0.74      0.74      4996\n",
      "weighted avg       0.74      0.74      0.74      4996\n",
      "\n",
      "Matrice de confusion\n"
     ]
    },
    {
     "data": {
      "image/png": "[encoded data removed]",
      "text/plain": [
       "<Figure size 576x288 with 1 Axes>"
      ]
     },
     "metadata": {
      "needs_background": "light"
     },
     "output_type": "display_data"
    }
   ],
   "source": [
    "BdD.append('Grand - Lemmatisation - BoW')\n",
    "precision, accuracy, t = NB_S(df_bow_2_l, X_train_2, X_test_2)\n",
    "temps_NB_S.append(t)\n",
    "accuracy_NB_S.append(accuracy)\n",
    "precision_NB_S.append(precision)"
   ]
  },
  {
   "cell_type": "code",
   "execution_count": 56,
   "id": "50acc3ec",
   "metadata": {
    "scrolled": false
   },
   "outputs": [
    {
     "name": "stdout",
     "output_type": "stream",
     "text": [
      "accuracy score : 0.74\n",
      "              precision    recall  f1-score   support\n",
      "\n",
      "           0       0.74      0.73      0.74      2526\n",
      "           1       0.73      0.74      0.74      2470\n",
      "\n",
      "    accuracy                           0.74      4996\n",
      "   macro avg       0.74      0.74      0.74      4996\n",
      "weighted avg       0.74      0.74      0.74      4996\n",
      "\n",
      "Matrice de confusion\n"
     ]
    },
    {
     "data": {
      "image/png": "[encoded data removed]",
      "text/plain": [
       "<Figure size 576x288 with 1 Axes>"
      ]
     },
     "metadata": {
      "needs_background": "light"
     },
     "output_type": "display_data"
    }
   ],
   "source": [
    "BdD.append('Grand - Racinisation - BoW')\n",
    "precision, accuracy, t = NB_S(df_bow_2_s, X_train_2, X_test_2)\n",
    "temps_NB_S.append(t)\n",
    "accuracy_NB_S.append(accuracy)\n",
    "precision_NB_S.append(precision)"
   ]
  },
  {
   "cell_type": "markdown",
   "id": "7595bc63",
   "metadata": {},
   "source": [
    "### Naive Bayes avec features avec TF-IDF"
   ]
  },
  {
   "cell_type": "code",
   "execution_count": 57,
   "id": "f619e917",
   "metadata": {},
   "outputs": [
    {
     "name": "stdout",
     "output_type": "stream",
     "text": [
      "accuracy score : 0.72\n",
      "              precision    recall  f1-score   support\n",
      "\n",
      "           0       0.71      0.75      0.73       500\n",
      "           1       0.74      0.69      0.71       500\n",
      "\n",
      "    accuracy                           0.72      1000\n",
      "   macro avg       0.72      0.72      0.72      1000\n",
      "weighted avg       0.72      0.72      0.72      1000\n",
      "\n",
      "Matrice de confusion\n"
     ]
    },
    {
     "data": {
      "image/png": "[encoded data removed]",
      "text/plain": [
       "<Figure size 576x288 with 1 Axes>"
      ]
     },
     "metadata": {
      "needs_background": "light"
     },
     "output_type": "display_data"
    }
   ],
   "source": [
    "BdD.append('Petit - Lemmatisation - TF-IDF')\n",
    "precision, accuracy, t = NB_S(df_tf_idf_1_l, X_train_1, X_test_1)\n",
    "temps_NB_S.append(t)\n",
    "accuracy_NB_S.append(accuracy)\n",
    "precision_NB_S.append(precision)"
   ]
  },
  {
   "cell_type": "code",
   "execution_count": 58,
   "id": "22dc969d",
   "metadata": {},
   "outputs": [
    {
     "name": "stdout",
     "output_type": "stream",
     "text": [
      "accuracy score : 0.72\n",
      "              precision    recall  f1-score   support\n",
      "\n",
      "           0       0.71      0.74      0.73       500\n",
      "           1       0.73      0.70      0.72       500\n",
      "\n",
      "    accuracy                           0.72      1000\n",
      "   macro avg       0.72      0.72      0.72      1000\n",
      "weighted avg       0.72      0.72      0.72      1000\n",
      "\n",
      "Matrice de confusion\n"
     ]
    },
    {
     "data": {
      "image/png": "[encoded data removed]",
      "text/plain": [
       "<Figure size 576x288 with 1 Axes>"
      ]
     },
     "metadata": {
      "needs_background": "light"
     },
     "output_type": "display_data"
    }
   ],
   "source": [
    "BdD.append('Petit - Racinisation - TF-IDF')\n",
    "precision, accuracy, t = NB_S(df_tf_idf_1_s, X_train_1, X_test_1)\n",
    "temps_NB_S.append(t)\n",
    "accuracy_NB_S.append(accuracy)\n",
    "precision_NB_S.append(precision)"
   ]
  },
  {
   "cell_type": "code",
   "execution_count": 59,
   "id": "af225504",
   "metadata": {},
   "outputs": [
    {
     "name": "stdout",
     "output_type": "stream",
     "text": [
      "accuracy score : 0.73\n",
      "              precision    recall  f1-score   support\n",
      "\n",
      "           0       0.74      0.73      0.74      2526\n",
      "           1       0.73      0.74      0.73      2470\n",
      "\n",
      "    accuracy                           0.73      4996\n",
      "   macro avg       0.73      0.73      0.73      4996\n",
      "weighted avg       0.73      0.73      0.73      4996\n",
      "\n",
      "Matrice de confusion\n"
     ]
    },
    {
     "data": {
      "image/png": "[encoded data removed]",
      "text/plain": [
       "<Figure size 576x288 with 1 Axes>"
      ]
     },
     "metadata": {
      "needs_background": "light"
     },
     "output_type": "display_data"
    }
   ],
   "source": [
    "BdD.append('Grand - Lemmatisation - TF-IDF')\n",
    "precision, accuracy, t = NB_S(df_tf_idf_2_l, X_train_2, X_test_2)\n",
    "temps_NB_S.append(t)\n",
    "accuracy_NB_S.append(accuracy)\n",
    "precision_NB_S.append(precision)"
   ]
  },
  {
   "cell_type": "code",
   "execution_count": 60,
   "id": "50937c99",
   "metadata": {
    "scrolled": false
   },
   "outputs": [
    {
     "name": "stdout",
     "output_type": "stream",
     "text": [
      "accuracy score : 0.73\n",
      "              precision    recall  f1-score   support\n",
      "\n",
      "           0       0.74      0.72      0.73      2526\n",
      "           1       0.72      0.74      0.73      2470\n",
      "\n",
      "    accuracy                           0.73      4996\n",
      "   macro avg       0.73      0.73      0.73      4996\n",
      "weighted avg       0.73      0.73      0.73      4996\n",
      "\n",
      "Matrice de confusion\n"
     ]
    },
    {
     "data": {
      "image/png": "[encoded data removed]",
      "text/plain": [
       "<Figure size 576x288 with 1 Axes>"
      ]
     },
     "metadata": {
      "needs_background": "light"
     },
     "output_type": "display_data"
    }
   ],
   "source": [
    "BdD.append('Grand - Racinisation - TF-IDF')\n",
    "precision, accuracy, t = NB_S(df_tf_idf_2_s, X_train_2, X_test_2)\n",
    "temps_NB_S.append(t)\n",
    "accuracy_NB_S.append(accuracy)\n",
    "precision_NB_S.append(precision)"
   ]
  },
  {
   "cell_type": "markdown",
   "id": "0caa7d0d",
   "metadata": {},
   "source": [
    "## Résultats"
   ]
  },
  {
   "cell_type": "code",
   "execution_count": 61,
   "id": "1ce0e59e",
   "metadata": {},
   "outputs": [],
   "source": [
    "# Synthèse des résultats\n",
    "resultats = {\n",
    "    'Base de données': BdD,\n",
    "    'temps': temps_NB_S,\n",
    "    'accuracy': accuracy_NB_S,\n",
    "    'precision': precision_NB_S\n",
    "}\n",
    "resultats_NB_S = pd.DataFrame(resultats)"
   ]
  },
  {
   "cell_type": "code",
   "execution_count": 62,
   "id": "c3ea8dba",
   "metadata": {
    "scrolled": false
   },
   "outputs": [
    {
     "data": {
      "text/html": [
       "<div>\n",
       "<style scoped>\n",
       "    .dataframe tbody tr th:only-of-type {\n",
       "        vertical-align: middle;\n",
       "    }\n",
       "\n",
       "    .dataframe tbody tr th {\n",
       "        vertical-align: top;\n",
       "    }\n",
       "\n",
       "    .dataframe thead th {\n",
       "        text-align: right;\n",
       "    }\n",
       "</style>\n",
       "<table border=\"1\" class=\"dataframe\">\n",
       "  <thead>\n",
       "    <tr style=\"text-align: right;\">\n",
       "      <th></th>\n",
       "      <th>Base de données</th>\n",
       "      <th>temps</th>\n",
       "      <th>accuracy</th>\n",
       "      <th>precision</th>\n",
       "    </tr>\n",
       "  </thead>\n",
       "  <tbody>\n",
       "    <tr>\n",
       "      <th>0</th>\n",
       "      <td>Petit - Lemmatisation - BoW</td>\n",
       "      <td>0.1</td>\n",
       "      <td>0.73</td>\n",
       "      <td>0.75</td>\n",
       "    </tr>\n",
       "    <tr>\n",
       "      <th>1</th>\n",
       "      <td>Petit - Racinisation - BoW</td>\n",
       "      <td>0.1</td>\n",
       "      <td>0.73</td>\n",
       "      <td>0.75</td>\n",
       "    </tr>\n",
       "    <tr>\n",
       "      <th>2</th>\n",
       "      <td>Grand - Lemmatisation - BoW</td>\n",
       "      <td>0.2</td>\n",
       "      <td>0.74</td>\n",
       "      <td>0.73</td>\n",
       "    </tr>\n",
       "    <tr>\n",
       "      <th>3</th>\n",
       "      <td>Grand - Racinisation - BoW</td>\n",
       "      <td>0.2</td>\n",
       "      <td>0.74</td>\n",
       "      <td>0.73</td>\n",
       "    </tr>\n",
       "    <tr>\n",
       "      <th>4</th>\n",
       "      <td>Petit - Lemmatisation - TF-IDF</td>\n",
       "      <td>0.1</td>\n",
       "      <td>0.72</td>\n",
       "      <td>0.74</td>\n",
       "    </tr>\n",
       "    <tr>\n",
       "      <th>5</th>\n",
       "      <td>Petit - Racinisation - TF-IDF</td>\n",
       "      <td>0.1</td>\n",
       "      <td>0.72</td>\n",
       "      <td>0.73</td>\n",
       "    </tr>\n",
       "    <tr>\n",
       "      <th>6</th>\n",
       "      <td>Grand - Lemmatisation - TF-IDF</td>\n",
       "      <td>0.1</td>\n",
       "      <td>0.73</td>\n",
       "      <td>0.73</td>\n",
       "    </tr>\n",
       "    <tr>\n",
       "      <th>7</th>\n",
       "      <td>Grand - Racinisation - TF-IDF</td>\n",
       "      <td>0.1</td>\n",
       "      <td>0.73</td>\n",
       "      <td>0.72</td>\n",
       "    </tr>\n",
       "  </tbody>\n",
       "</table>\n",
       "</div>"
      ],
      "text/plain": [
       "                  Base de données  temps  accuracy  precision\n",
       "0     Petit - Lemmatisation - BoW    0.1      0.73       0.75\n",
       "1      Petit - Racinisation - BoW    0.1      0.73       0.75\n",
       "2     Grand - Lemmatisation - BoW    0.2      0.74       0.73\n",
       "3      Grand - Racinisation - BoW    0.2      0.74       0.73\n",
       "4  Petit - Lemmatisation - TF-IDF    0.1      0.72       0.74\n",
       "5   Petit - Racinisation - TF-IDF    0.1      0.72       0.73\n",
       "6  Grand - Lemmatisation - TF-IDF    0.1      0.73       0.73\n",
       "7   Grand - Racinisation - TF-IDF    0.1      0.73       0.72"
      ]
     },
     "execution_count": 62,
     "metadata": {},
     "output_type": "execute_result"
    }
   ],
   "source": [
    "resultats_NB_S"
   ]
  },
  {
   "cell_type": "markdown",
   "id": "15f138d8",
   "metadata": {},
   "source": [
    "sources : \n",
    "\n",
    "https://www.kite.com/python/docs/sklearn.naive_bayes.MultinomialNB\n",
    "\n",
    "https://mrmint.fr/naive-bayes-classifier\n",
    "\n",
    "https://towardsdatascience.com/how-i-was-using-naive-bayes-incorrectly-till-now-part-1-4ed2a7e2212b"
   ]
  },
  {
   "cell_type": "markdown",
   "id": "1a197e65",
   "metadata": {},
   "source": [
    "## Regression logistique"
   ]
  },
  {
   "cell_type": "markdown",
   "id": "3bff71fe",
   "metadata": {},
   "source": [
    "La régression logistique permet de modéliser la probabilité qu'un tweet appartienne à la classe \"positive\" (la classe positive, 'target' = 1). Cette probabilité repose sur une transformation logistique d'une combinaison linéaire des variables. Contrairement au modèle de Naive Bayes énoncé dans la partie précédente, il s'agit d'un modèle discriminant.\n",
    "\n",
    "A chaque variable est attribué un coefficient. Ces coefficients s'apprennent par maximisation de vraisemblance (ou du log de la vraisemblance).\n",
    "\n",
    "Plusieurs paramètres peuvent influencer la performance de la régression logistique.\n",
    "\n",
    "D'abord, le paramètre C, qui est inversement proportionnel à la force de la régularisation. Il est aussi possible de choisir le type de solveur (qui fournit une solution numérique au problème de maximisation de la vraisemblance). Par exemple, pour notre échantillon, le solveur 'liblinear' est plutôt judicieux. En effet, notre échantillon n'est pas imposant et notre objectif est de pouvoir focaliser les performances sur la capacité du modèle à identifier des cibles négatives. Enfin, les techniques de régularisation des modèles linéaires ℓ1 et ℓ2 s'appliquent aussi à la régression logistique. Ces régulateurs permettent d'éviter le surapprentissage. La norme ℓ1 permet d'obtenir un modèle parcimonieux alors que la norme ℓ2 pénalise le problème en réduisant le poids des variables.\n",
    "\n",
    "Les paramètres C, penalty et max_iter vont être optimisés grâce à une grille de recherche (GridSearch)."
   ]
  },
  {
   "cell_type": "markdown",
   "id": "6d9144de",
   "metadata": {},
   "source": [
    "### Grille de recherche "
   ]
  },
  {
   "cell_type": "code",
   "execution_count": 64,
   "id": "46f5fad0",
   "metadata": {},
   "outputs": [
    {
     "name": "stdout",
     "output_type": "stream",
     "text": [
      "Le meilleur score est: 0.71 \n",
      "avec les paramètres suivant : {'C': 0.5994842503189409, 'max_iter': 50, 'penalty': 'l2'}\n"
     ]
    }
   ],
   "source": [
    "LR_grid(df_bow_1_l, X_train_1, X_test_1)"
   ]
  },
  {
   "cell_type": "markdown",
   "id": "c3f16d19",
   "metadata": {},
   "source": [
    "### Etablissement du modèle"
   ]
  },
  {
   "cell_type": "code",
   "execution_count": 65,
   "id": "5d73ee74",
   "metadata": {},
   "outputs": [],
   "source": [
    "from sklearn.preprocessing import MaxAbsScaler"
   ]
  },
  {
   "cell_type": "markdown",
   "id": "94e93e99",
   "metadata": {},
   "source": [
    "### Régression logistique avec features avec BoW simple"
   ]
  },
  {
   "cell_type": "code",
   "execution_count": 67,
   "id": "2565417d",
   "metadata": {},
   "outputs": [],
   "source": [
    "modeles.append('Régression logistique (Sklearn)')\n",
    "BdD = []\n",
    "temps_LR_S = []\n",
    "accuracy_LR_S = []\n",
    "precision_LR_S = []"
   ]
  },
  {
   "cell_type": "code",
   "execution_count": 68,
   "id": "7a53182e",
   "metadata": {},
   "outputs": [
    {
     "name": "stdout",
     "output_type": "stream",
     "text": [
      "accuracy score : 0.73\n",
      "Mots négatifs : ['not', 'sad', 'miss', 'no', 'sorry', 'die', 'ugh', 'hate', 'suck', 'headache']\n",
      "Mots positifs : ['thank', 'thanks', 'love', 'great', 'finally', 'good', 'nice', 'haha', 'lol', 'link']\n",
      "              precision    recall  f1-score   support\n",
      "\n",
      "           0       0.73      0.74      0.73       500\n",
      "           1       0.74      0.72      0.73       500\n",
      "\n",
      "    accuracy                           0.73      1000\n",
      "   macro avg       0.73      0.73      0.73      1000\n",
      "weighted avg       0.73      0.73      0.73      1000\n",
      "\n",
      "Matrice de confusion\n"
     ]
    },
    {
     "data": {
      "image/png": "[encoded data removed]",
      "text/plain": [
       "<Figure size 576x288 with 1 Axes>"
      ]
     },
     "metadata": {
      "needs_background": "light"
     },
     "output_type": "display_data"
    }
   ],
   "source": [
    "BdD.append('Petit - Lemmatisation - BoW')\n",
    "precision, accuracy, t = LR_S(df_bow_1_l, vecteur_bow_1_l, X_train_1, X_test_1)\n",
    "temps_LR_S.append(t)\n",
    "accuracy_LR_S.append(accuracy)\n",
    "precision_LR_S.append(precision)"
   ]
  },
  {
   "cell_type": "code",
   "execution_count": 69,
   "id": "0aa6f5dd",
   "metadata": {},
   "outputs": [
    {
     "name": "stdout",
     "output_type": "stream",
     "text": [
      "accuracy score : 0.72\n",
      "Mots négatifs : ['not', 'sad', 'miss', 'no', 'sorri', 'die', 'ugh', 'suck', 'but', 'headach']\n",
      "Mots positifs : ['thank', 'love', 'great', 'good', 'haha', 'lol', 'link', 'cool', 'cute', 'nice']\n",
      "              precision    recall  f1-score   support\n",
      "\n",
      "           0       0.71      0.73      0.72       500\n",
      "           1       0.72      0.71      0.72       500\n",
      "\n",
      "    accuracy                           0.72      1000\n",
      "   macro avg       0.72      0.72      0.72      1000\n",
      "weighted avg       0.72      0.72      0.72      1000\n",
      "\n",
      "Matrice de confusion\n"
     ]
    },
    {
     "data": {
      "image/png": "[encoded data removed]",
      "text/plain": [
       "<Figure size 576x288 with 1 Axes>"
      ]
     },
     "metadata": {
      "needs_background": "light"
     },
     "output_type": "display_data"
    }
   ],
   "source": [
    "BdD.append('Petit - Racinisation - BoW')\n",
    "precision, accuracy, t = LR_S(df_bow_1_s, vecteur_bow_1_s, X_train_1, X_test_1)\n",
    "temps_LR_S.append(t)\n",
    "accuracy_LR_S.append(accuracy)\n",
    "precision_LR_S.append(precision)"
   ]
  },
  {
   "cell_type": "code",
   "execution_count": 70,
   "id": "3decd3de",
   "metadata": {},
   "outputs": [
    {
     "name": "stdout",
     "output_type": "stream",
     "text": [
      "accuracy score : 0.73\n",
      "Mots négatifs : ['miss', 'sad', 'lose', 'hate', 'not', 'no', 'suck', 'hurt', 'sick', 'wish']\n",
      "Mots positifs : ['thank', 'love', 'thanks', 'good', 'nice', 'welcome', 'happy', 'enjoy', 'awesome', 'yay']\n",
      "              precision    recall  f1-score   support\n",
      "\n",
      "           0       0.74      0.72      0.73      2526\n",
      "           1       0.72      0.74      0.73      2470\n",
      "\n",
      "    accuracy                           0.73      4996\n",
      "   macro avg       0.73      0.73      0.73      4996\n",
      "weighted avg       0.73      0.73      0.73      4996\n",
      "\n",
      "Matrice de confusion\n"
     ]
    },
    {
     "data": {
      "image/png": "[encoded data removed]",
      "text/plain": [
       "<Figure size 576x288 with 1 Axes>"
      ]
     },
     "metadata": {
      "needs_background": "light"
     },
     "output_type": "display_data"
    }
   ],
   "source": [
    "BdD.append('Grand - Lemmatisation - BoW')\n",
    "precision, accuracy, t = LR_S(df_bow_2_l, vecteur_bow_2_l, X_train_2, X_test_2)\n",
    "temps_LR_S.append(t)\n",
    "accuracy_LR_S.append(accuracy)\n",
    "precision_LR_S.append(precision)"
   ]
  },
  {
   "cell_type": "code",
   "execution_count": 71,
   "id": "5f276c90",
   "metadata": {
    "scrolled": false
   },
   "outputs": [
    {
     "name": "stdout",
     "output_type": "stream",
     "text": [
      "accuracy score : 0.73\n",
      "Mots négatifs : ['miss', 'sad', 'hate', 'lost', 'no', 'suck', 'not', 'hurt', 'sick', 'wish']\n",
      "Mots positifs : ['thank', 'love', 'nice', 'good', 'welcom', 'happi', 'awesom', 'yay', 'excit', 'enjoy']\n",
      "              precision    recall  f1-score   support\n",
      "\n",
      "           0       0.74      0.73      0.74      2526\n",
      "           1       0.73      0.74      0.73      2470\n",
      "\n",
      "    accuracy                           0.73      4996\n",
      "   macro avg       0.73      0.73      0.73      4996\n",
      "weighted avg       0.73      0.73      0.73      4996\n",
      "\n",
      "Matrice de confusion\n"
     ]
    },
    {
     "data": {
      "image/png": "[encoded data removed]",
      "text/plain": [
       "<Figure size 576x288 with 1 Axes>"
      ]
     },
     "metadata": {
      "needs_background": "light"
     },
     "output_type": "display_data"
    }
   ],
   "source": [
    "BdD.append('Grand - Racinisation - BoW')\n",
    "precision, accuracy, t = LR_S(df_bow_2_s, vecteur_bow_2_s, X_train_2, X_test_2)\n",
    "temps_LR_S.append(t)\n",
    "accuracy_LR_S.append(accuracy)\n",
    "precision_LR_S.append(precision)"
   ]
  },
  {
   "cell_type": "markdown",
   "id": "42f6c270",
   "metadata": {},
   "source": [
    "### Régression logistique avec features avec TF-IDF"
   ]
  },
  {
   "cell_type": "code",
   "execution_count": 72,
   "id": "ca6b0c7d",
   "metadata": {},
   "outputs": [
    {
     "name": "stdout",
     "output_type": "stream",
     "text": [
      "accuracy score : 0.73\n",
      "Mots négatifs : ['sad', 'not', 'miss', 'hate', 'sorry', 'no', 'suck', 'feel', 'ugh', 'wish']\n",
      "Mots positifs : ['thank', 'love', 'good', 'thanks', 'link', 'great', 'nice', 'finally', 'haha', 'cool']\n",
      "              precision    recall  f1-score   support\n",
      "\n",
      "           0       0.73      0.74      0.74       500\n",
      "           1       0.74      0.72      0.73       500\n",
      "\n",
      "    accuracy                           0.73      1000\n",
      "   macro avg       0.73      0.73      0.73      1000\n",
      "weighted avg       0.73      0.73      0.73      1000\n",
      "\n",
      "Matrice de confusion\n"
     ]
    },
    {
     "data": {
      "image/png": "[encoded data removed]",
      "text/plain": [
       "<Figure size 576x288 with 1 Axes>"
      ]
     },
     "metadata": {
      "needs_background": "light"
     },
     "output_type": "display_data"
    }
   ],
   "source": [
    "BdD.append('Petit - Lemmatisation - TF-IDF')\n",
    "precision, accuracy, t = LR_S(df_tf_idf_1_l, vecteur_tf_idf_1_l, X_train_1,\n",
    "                              X_test_1)\n",
    "temps_LR_S.append(t)\n",
    "accuracy_LR_S.append(accuracy)\n",
    "precision_LR_S.append(precision)"
   ]
  },
  {
   "cell_type": "code",
   "execution_count": 73,
   "id": "9534b85c",
   "metadata": {},
   "outputs": [
    {
     "name": "stdout",
     "output_type": "stream",
     "text": [
      "accuracy score : 0.73\n",
      "Mots négatifs : ['sad', 'not', 'miss', 'hate', 'no', 'sorri', 'suck', 'ugh', 'wish', 'feel']\n",
      "Mots positifs : ['thank', 'love', 'good', 'link', 'great', 'haha', 'cool', 'happi', 'nice', 'lol']\n",
      "              precision    recall  f1-score   support\n",
      "\n",
      "           0       0.72      0.73      0.73       500\n",
      "           1       0.73      0.72      0.72       500\n",
      "\n",
      "    accuracy                           0.73      1000\n",
      "   macro avg       0.73      0.73      0.73      1000\n",
      "weighted avg       0.73      0.73      0.73      1000\n",
      "\n",
      "Matrice de confusion\n"
     ]
    },
    {
     "data": {
      "image/png": "[encoded data removed]",
      "text/plain": [
       "<Figure size 576x288 with 1 Axes>"
      ]
     },
     "metadata": {
      "needs_background": "light"
     },
     "output_type": "display_data"
    }
   ],
   "source": [
    "BdD.append('Petit - Racinisation - TF-IDF')\n",
    "precision, accuracy, t = LR_S(df_tf_idf_1_s, vecteur_tf_idf_1_s, X_train_1,\n",
    "                              X_test_1)\n",
    "temps_LR_S.append(t)\n",
    "accuracy_LR_S.append(accuracy)\n",
    "precision_LR_S.append(precision)"
   ]
  },
  {
   "cell_type": "code",
   "execution_count": 74,
   "id": "3ff71abd",
   "metadata": {},
   "outputs": [
    {
     "name": "stdout",
     "output_type": "stream",
     "text": [
      "accuracy score : 0.74\n",
      "Mots négatifs : ['sad', 'miss', 'lose', 'not', 'suck', 'hate', 'wish', 'hurt', 'poor', 'sick']\n",
      "Mots positifs : ['thanks', 'thank', 'good', 'happy', 'welcome', 'nice', 'great', 'enjoy', 'love', 'awesome']\n",
      "              precision    recall  f1-score   support\n",
      "\n",
      "           0       0.75      0.72      0.73      2526\n",
      "           1       0.72      0.75      0.74      2470\n",
      "\n",
      "    accuracy                           0.74      4996\n",
      "   macro avg       0.74      0.74      0.74      4996\n",
      "weighted avg       0.74      0.74      0.74      4996\n",
      "\n",
      "Matrice de confusion\n"
     ]
    },
    {
     "data": {
      "image/png": "[encoded data removed]",
      "text/plain": [
       "<Figure size 576x288 with 1 Axes>"
      ]
     },
     "metadata": {
      "needs_background": "light"
     },
     "output_type": "display_data"
    }
   ],
   "source": [
    "BdD.append('Grand - Lemmatisation - TF-IDF')\n",
    "precision, accuracy, t = LR_S(df_tf_idf_2_l, vecteur_tf_idf_2_l, X_train_2,\n",
    "                              X_test_2)\n",
    "temps_LR_S.append(t)\n",
    "accuracy_LR_S.append(accuracy)\n",
    "precision_LR_S.append(precision)"
   ]
  },
  {
   "cell_type": "code",
   "execution_count": 75,
   "id": "29cb6691",
   "metadata": {
    "scrolled": false
   },
   "outputs": [
    {
     "name": "stdout",
     "output_type": "stream",
     "text": [
      "accuracy score : 0.74\n",
      "Mots négatifs : ['sad', 'miss', 'lost', 'suck', 'hate', 'not', 'wish', 'hurt', 'sick', 'poor']\n",
      "Mots positifs : ['thank', 'nice', 'good', 'happi', 'welcom', 'love', 'awesom', 'yay', 'great', 'excit']\n",
      "              precision    recall  f1-score   support\n",
      "\n",
      "           0       0.75      0.72      0.73      2526\n",
      "           1       0.72      0.75      0.74      2470\n",
      "\n",
      "    accuracy                           0.74      4996\n",
      "   macro avg       0.74      0.74      0.74      4996\n",
      "weighted avg       0.74      0.74      0.74      4996\n",
      "\n",
      "Matrice de confusion\n"
     ]
    },
    {
     "data": {
      "image/png": "[encoded data removed]",
      "text/plain": [
       "<Figure size 576x288 with 1 Axes>"
      ]
     },
     "metadata": {
      "needs_background": "light"
     },
     "output_type": "display_data"
    }
   ],
   "source": [
    "BdD.append('Grand - Racinisation - TF-IDF')\n",
    "precision, accuracy, t = LR_S(df_tf_idf_2_s, vecteur_tf_idf_2_s, X_train_2,\n",
    "                              X_test_2)\n",
    "temps_LR_S.append(t)\n",
    "accuracy_LR_S.append(accuracy)\n",
    "precision_LR_S.append(precision)"
   ]
  },
  {
   "cell_type": "markdown",
   "id": "effa04b3",
   "metadata": {},
   "source": [
    "## Résultats"
   ]
  },
  {
   "cell_type": "code",
   "execution_count": 76,
   "id": "e536459a",
   "metadata": {},
   "outputs": [],
   "source": [
    "# Synthèse des résultats\n",
    "resultats = {\n",
    "    'Base de données': BdD,\n",
    "    'temps': temps_LR_S,\n",
    "    'accuracy': accuracy_LR_S,\n",
    "    'precision': precision_LR_S\n",
    "}\n",
    "resultats_LR_S = pd.DataFrame(resultats)"
   ]
  },
  {
   "cell_type": "code",
   "execution_count": 77,
   "id": "35c3a1b9",
   "metadata": {
    "scrolled": false
   },
   "outputs": [
    {
     "data": {
      "text/html": [
       "<div>\n",
       "<style scoped>\n",
       "    .dataframe tbody tr th:only-of-type {\n",
       "        vertical-align: middle;\n",
       "    }\n",
       "\n",
       "    .dataframe tbody tr th {\n",
       "        vertical-align: top;\n",
       "    }\n",
       "\n",
       "    .dataframe thead th {\n",
       "        text-align: right;\n",
       "    }\n",
       "</style>\n",
       "<table border=\"1\" class=\"dataframe\">\n",
       "  <thead>\n",
       "    <tr style=\"text-align: right;\">\n",
       "      <th></th>\n",
       "      <th>Base de données</th>\n",
       "      <th>temps</th>\n",
       "      <th>accuracy</th>\n",
       "      <th>precision</th>\n",
       "    </tr>\n",
       "  </thead>\n",
       "  <tbody>\n",
       "    <tr>\n",
       "      <th>0</th>\n",
       "      <td>Petit - Lemmatisation - BoW</td>\n",
       "      <td>0.3</td>\n",
       "      <td>0.73</td>\n",
       "      <td>0.74</td>\n",
       "    </tr>\n",
       "    <tr>\n",
       "      <th>1</th>\n",
       "      <td>Petit - Racinisation - BoW</td>\n",
       "      <td>0.3</td>\n",
       "      <td>0.72</td>\n",
       "      <td>0.72</td>\n",
       "    </tr>\n",
       "    <tr>\n",
       "      <th>2</th>\n",
       "      <td>Grand - Lemmatisation - BoW</td>\n",
       "      <td>1.3</td>\n",
       "      <td>0.73</td>\n",
       "      <td>0.72</td>\n",
       "    </tr>\n",
       "    <tr>\n",
       "      <th>3</th>\n",
       "      <td>Grand - Racinisation - BoW</td>\n",
       "      <td>1.3</td>\n",
       "      <td>0.73</td>\n",
       "      <td>0.73</td>\n",
       "    </tr>\n",
       "    <tr>\n",
       "      <th>4</th>\n",
       "      <td>Petit - Lemmatisation - TF-IDF</td>\n",
       "      <td>0.2</td>\n",
       "      <td>0.73</td>\n",
       "      <td>0.74</td>\n",
       "    </tr>\n",
       "    <tr>\n",
       "      <th>5</th>\n",
       "      <td>Petit - Racinisation - TF-IDF</td>\n",
       "      <td>0.2</td>\n",
       "      <td>0.73</td>\n",
       "      <td>0.73</td>\n",
       "    </tr>\n",
       "    <tr>\n",
       "      <th>6</th>\n",
       "      <td>Grand - Lemmatisation - TF-IDF</td>\n",
       "      <td>0.9</td>\n",
       "      <td>0.74</td>\n",
       "      <td>0.72</td>\n",
       "    </tr>\n",
       "    <tr>\n",
       "      <th>7</th>\n",
       "      <td>Grand - Racinisation - TF-IDF</td>\n",
       "      <td>1.1</td>\n",
       "      <td>0.74</td>\n",
       "      <td>0.72</td>\n",
       "    </tr>\n",
       "  </tbody>\n",
       "</table>\n",
       "</div>"
      ],
      "text/plain": [
       "                  Base de données  temps  accuracy  precision\n",
       "0     Petit - Lemmatisation - BoW    0.3      0.73       0.74\n",
       "1      Petit - Racinisation - BoW    0.3      0.72       0.72\n",
       "2     Grand - Lemmatisation - BoW    1.3      0.73       0.72\n",
       "3      Grand - Racinisation - BoW    1.3      0.73       0.73\n",
       "4  Petit - Lemmatisation - TF-IDF    0.2      0.73       0.74\n",
       "5   Petit - Racinisation - TF-IDF    0.2      0.73       0.73\n",
       "6  Grand - Lemmatisation - TF-IDF    0.9      0.74       0.72\n",
       "7   Grand - Racinisation - TF-IDF    1.1      0.74       0.72"
      ]
     },
     "execution_count": 77,
     "metadata": {},
     "output_type": "execute_result"
    }
   ],
   "source": [
    "resultats_LR_S"
   ]
  },
  {
   "cell_type": "markdown",
   "id": "91525fae",
   "metadata": {},
   "source": [
    "Nous observons que les performances du modèle sont similaires suivant que nous prenons la méthode des bag of words classique ou celle qui utilise la méthode TF-IDF. Aussi, la lemmatisation et la racinisation ne change pas les performances sur ce modèle. La seule légère différence est un temps de calcul légèrement plus faible pour les tweets transformés avec la racinisation."
   ]
  },
  {
   "cell_type": "markdown",
   "id": "b1558aaa",
   "metadata": {},
   "source": [
    "sources :\n",
    "\n",
    "https://scikit-learn.org/stable/modules/generated/sklearn.linear_model.LogisticRegression.html\n",
    "\n",
    "https://datascientest.com/regression-logistique-quest-ce-que-cest"
   ]
  },
  {
   "cell_type": "code",
   "execution_count": null,
   "id": "2358499a",
   "metadata": {},
   "outputs": [],
   "source": []
  }
 ],
 "metadata": {
  "kernelspec": {
   "display_name": "Python 3 (ipykernel)",
   "language": "python",
   "name": "python3"
  },
  "language_info": {
   "codemirror_mode": {
    "name": "ipython",
    "version": 3
   },
   "file_extension": ".py",
   "mimetype": "text/x-python",
   "name": "python",
   "nbconvert_exporter": "python",
   "pygments_lexer": "ipython3",
   "version": "3.8.8"
  },
  "nbTranslate": {
   "displayLangs": [
    "*"
   ],
   "hotkey": "alt-t",
   "langInMainMenu": true,
   "sourceLang": "en",
   "targetLang": "fr",
   "useGoogleTranslate": true
  },
  "toc": {
   "base_numbering": 1,
   "nav_menu": {},
   "number_sections": true,
   "sideBar": true,
   "skip_h1_title": false,
   "title_cell": "Table of Contents",
   "title_sidebar": "Contents",
   "toc_cell": true,
   "toc_position": {
    "height": "calc(100% - 180px)",
    "left": "10px",
    "top": "150px",
    "width": "384px"
   },
   "toc_section_display": true,
   "toc_window_display": true
  }
 },
 "nbformat": 4,
 "nbformat_minor": 5
}
